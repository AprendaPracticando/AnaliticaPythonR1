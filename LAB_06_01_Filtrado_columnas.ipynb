{
  "nbformat": 4,
  "nbformat_minor": 0,
  "metadata": {
    "colab": {
      "provenance": [],
      "authorship_tag": "ABX9TyOQuwTg3cZ2de8i9B6caYGC",
      "include_colab_link": true
    },
    "kernelspec": {
      "name": "python3",
      "display_name": "Python 3"
    },
    "language_info": {
      "name": "python"
    }
  },
  "cells": [
    {
      "cell_type": "markdown",
      "metadata": {
        "id": "view-in-github",
        "colab_type": "text"
      },
      "source": [
        "<a href=\"https://colab.research.google.com/github/AprendaPracticando/AnaliticaPythonR1/blob/main/LAB_06_01_Filtrado_columnas.ipynb\" target=\"_parent\"><img src=\"https://colab.research.google.com/assets/colab-badge.svg\" alt=\"Open In Colab\"/></a>"
      ]
    },
    {
      "cell_type": "markdown",
      "source": [
        "# **LAB 06.01: Ver datos del DataFrame**"
      ],
      "metadata": {
        "id": "rsKWpMPo5GQ_"
      }
    },
    {
      "cell_type": "markdown",
      "source": [
        "En este Lab se revisan estrategias para visualizar datos de un DataFrame.\n",
        "Las tareas por realizar son:\n",
        "1.\tVer todos los datos de un DataFrame.\n",
        "    1. Ver las filas en los extremos de un DataFrame.\n",
        "    1. Ver las primeras filas de un DataFrame.\n",
        "2.\tVer las últimas 13 filas de un DataFrame.\n",
        "3.\tVer el contenido de una columna.\n",
        "    1. Ver el contenido de una columna, usando notación estándar.\n",
        "    1. Ver el contenido de una columna, usando dot notation.\n",
        "4.\tVer el contenido de solo algunas columnas.\n"
      ],
      "metadata": {
        "id": "uFz38ahz5JXA"
      }
    },
    {
      "cell_type": "markdown",
      "source": [
        "## **Ver todos los datos de un DataFrame**"
      ],
      "metadata": {
        "id": "-xIbzgVV5WwM"
      }
    },
    {
      "cell_type": "code",
      "execution_count": null,
      "metadata": {
        "id": "eQVZc-HN43qh"
      },
      "outputs": [],
      "source": [
        "# Datos base\n",
        "import pandas as pd\n",
        "pasajeros_titanic_csv='https://raw.githubusercontent.com/AprendaPracticando/AnaliticaPythonR1/main/data/pasajeros_titanic.csv'\n",
        "titanic = pd.read_csv(pasajeros_titanic_csv)\n",
        "\n",
        "# Ver todos los campos del DataFrame titanic\n",
        "titanic"
      ]
    },
    {
      "cell_type": "markdown",
      "source": [
        "# **Ver las filas en los extremos de un DataFrame**"
      ],
      "metadata": {
        "id": "8i6W1IpQ5x74"
      }
    },
    {
      "cell_type": "code",
      "source": [
        "# Ver las primeras 5 filas del DataFrame titanic.\n",
        "titanic.head()"
      ],
      "metadata": {
        "id": "sj5djlaO523O"
      },
      "execution_count": null,
      "outputs": []
    },
    {
      "cell_type": "code",
      "source": [
        "# Ver las últimas 13 filas del DataFrame titanic.\n",
        "titanic.tail(13)"
      ],
      "metadata": {
        "id": "wW8le8Oo58zZ"
      },
      "execution_count": null,
      "outputs": []
    },
    {
      "cell_type": "markdown",
      "source": [
        "## **Ver el contenido de una columna**"
      ],
      "metadata": {
        "id": "Kvy4bvsO6AsL"
      }
    },
    {
      "cell_type": "code",
      "source": [
        "# Ver el contenido de la columna nombre\n",
        "# usando notación estándar (entre square brackets)\n",
        "titanic['nombre']"
      ],
      "metadata": {
        "id": "cATLQk2w6D-v"
      },
      "execution_count": null,
      "outputs": []
    },
    {
      "cell_type": "code",
      "source": [
        "# Ver el contenido de la columna nombre, \n",
        "# usando dot notation.\n",
        "titanic.nombre"
      ],
      "metadata": {
        "id": "Y7gDSkJA6H67"
      },
      "execution_count": null,
      "outputs": []
    },
    {
      "cell_type": "markdown",
      "source": [
        "## **Ver el contenido de solo algunas columnas**"
      ],
      "metadata": {
        "id": "lZKL6FLg6Lul"
      }
    },
    {
      "cell_type": "code",
      "source": [
        "# Ver el contenido de las columnas clase_viaje, nombre, \n",
        "# y tarifa, solamente.\n",
        "lista_columnas=['clase_viaje', 'nombre', 'tarifa']\n",
        "titanic[lista_columnas]\n"
      ],
      "metadata": {
        "id": "rC9Q2Kvi6PXQ"
      },
      "execution_count": null,
      "outputs": []
    },
    {
      "cell_type": "code",
      "source": [
        "# Ver el contenido de las columnas clase_viaje, nombre, \n",
        "# y tarifa, solamente.\n",
        "titanic[['clase_viaje', 'nombre', 'tarifa']]"
      ],
      "metadata": {
        "id": "OmNsu0s46W5Z"
      },
      "execution_count": null,
      "outputs": []
    }
  ]
}