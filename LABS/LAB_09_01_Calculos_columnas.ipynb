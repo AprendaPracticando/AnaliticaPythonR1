{
  "nbformat": 4,
  "nbformat_minor": 0,
  "metadata": {
    "colab": {
      "provenance": [],
      "authorship_tag": "ABX9TyPYUWyZB511KZbwYH9cSuwk",
      "include_colab_link": true
    },
    "kernelspec": {
      "name": "python3",
      "display_name": "Python 3"
    },
    "language_info": {
      "name": "python"
    }
  },
  "cells": [
    {
      "cell_type": "markdown",
      "metadata": {
        "id": "view-in-github",
        "colab_type": "text"
      },
      "source": [
        "<a href=\"https://colab.research.google.com/github/AprendaPracticando/AnaliticaPythonR1/blob/main/LABS/LAB_09_01_Calculos_columnas.ipynb\" target=\"_parent\"><img src=\"https://colab.research.google.com/assets/colab-badge.svg\" alt=\"Open In Colab\"/></a>"
      ]
    },
    {
      "cell_type": "markdown",
      "source": [
        "# **LAB 09.01: Cálculos con columnas**"
      ],
      "metadata": {
        "id": "Wos1P7Kyz1Dw"
      }
    },
    {
      "cell_type": "markdown",
      "source": [
        "En este Lab se desea generar una nueva columna llamada acompañantes, que sea la suma de cantidad_familiares y cantidad_parientes, usando todas las variantes.\n",
        "Las tareas por realizar son:\n",
        "1.\tGenerar una nueva columna usando fórmulas.\n",
        "2.\tGenerar una nueva columna usando UDF's.\n",
        "    1. Pasando todas las columnas.\n",
        "    1. Pasando sólo las columnas requeridas.\n"
      ],
      "metadata": {
        "id": "_USg6Zpxz9jP"
      }
    },
    {
      "cell_type": "code",
      "source": [
        "# Datos base\n",
        "import pandas as pd\n",
        "personas_titanic_csv='https://raw.githubusercontent.com/AprendaPracticando/AnaliticaPythonR1/main/data/personas_titanic_v2.csv'\n",
        "titanic = pd.read_csv(personas_titanic_csv)\n"
      ],
      "metadata": {
        "id": "SJ_peQfw0Eke"
      },
      "execution_count": null,
      "outputs": []
    },
    {
      "cell_type": "markdown",
      "source": [
        "## **Generar una nueva columna usando fórmulas**"
      ],
      "metadata": {
        "id": "ml74OHFa0Kqe"
      }
    },
    {
      "cell_type": "code",
      "execution_count": null,
      "metadata": {
        "id": "1bgFJ_I1z0QA"
      },
      "outputs": [],
      "source": [
        "# La tarea, en su forma más sencilla (fórmula simple)\n",
        "titanic['acompañantes']=(titanic['cantidad_familiares']+\n",
        "                         titanic['cantidad_parientes'])\n",
        "\n",
        "# Se comprueba la generación de la suma y la creación \n",
        "# de la nueva columna. Se genera un DataFrame que contenga \n",
        "# las filas donde acompañantes sea mayor a cero.\n",
        "pasajeros_acompañados=titanic.loc[titanic['acompañantes']>0]\n",
        "\n",
        "# Se muestran los resultados.\n",
        "pasajeros_acompañados\n"
      ]
    },
    {
      "cell_type": "markdown",
      "source": [
        "## **Generar una nueva columna usando UDF's**"
      ],
      "metadata": {
        "id": "f9hpe6ry0TXD"
      }
    },
    {
      "cell_type": "code",
      "source": [
        "# Alternativa, pasando todas las columnas\n",
        "\n",
        "# Se declara la función externa.\n",
        "def calcula_acompañantes(fila):\n",
        "  return fila['cantidad_familiares']+fila['cantidad_parientes']\n",
        "\n",
        "# Se invoca la función.\n",
        "titanic['acompañantes_1']=titanic.apply(calcula_acompañantes,\n",
        "      axis=1)\n",
        "\n",
        "# Filtrar para ver solo personas con acompañantes.\n",
        "pasajeros_acompañados=titanic.loc[titanic['acompañantes']>0]\n",
        "\n",
        "# Ver el resultado\n",
        "pasajeros_acompañados\n"
      ],
      "metadata": {
        "id": "UajjLBPt0Z1H"
      },
      "execution_count": null,
      "outputs": []
    },
    {
      "cell_type": "code",
      "source": [
        "# Alternativa pasando solo las columnas requeridas\n",
        "\n",
        "# Se declara la función externa.\n",
        "def calcula_acompañantes(fila):\n",
        "  return fila['cantidad_familiares']+fila['cantidad_parientes']\n",
        "\n",
        "# Se invoca la función, pasando sólo algunas columnas.\n",
        "titanic['acompañantes_2']=titanic[['cantidad_familiares',\n",
        "     'cantidad_parientes']].apply(calcula_acompañantes,axis=1)\n",
        "\n",
        "# Filtrar para ver solo personas con acompañantes.\n",
        "pasajeros_acompañados=titanic.loc[titanic['acompañantes']>0]\n",
        "\n",
        "# Ver el resultado\n",
        "pasajeros_acompañados\n"
      ],
      "metadata": {
        "id": "kZvvtDvs0l09"
      },
      "execution_count": null,
      "outputs": []
    },
    {
      "cell_type": "markdown",
      "source": [
        "## **Generar una nueva columna usando funciones anónimas (lamda)**"
      ],
      "metadata": {
        "id": "Wr7Wukzq0uhO"
      }
    },
    {
      "cell_type": "code",
      "source": [
        "# Se aplica la función lambda usando apply()\n",
        "titanic['acompañantes_3']=titanic.apply(lambda x: \n",
        "    x['cantidad_familiares'] + \n",
        "    x['cantidad_parientes'], axis=1)\n",
        "\n",
        "# Filtrar para ver solo personas con acompañantes.\n",
        "pasajeros_acompañados=titanic.loc[titanic['acompañantes']>0]\n",
        "\n",
        "# Ver el resultado\n",
        "pasajeros_acompañados\n"
      ],
      "metadata": {
        "id": "wjTFS_p_0yIV"
      },
      "execution_count": null,
      "outputs": []
    },
    {
      "cell_type": "markdown",
      "source": [
        "## **Eliminación de columnas**"
      ],
      "metadata": {
        "id": "FkPmG7o7028b"
      }
    },
    {
      "cell_type": "code",
      "source": [
        "# Se eliminan los campos que no son requridos del DataFrame \n",
        "# titanic\n",
        "titanic.drop(columns=['acompañantes_1','acompañantes_2',\n",
        "            'acompañantes_3'],\n",
        "            inplace=True)\n"
      ],
      "metadata": {
        "id": "NG41ivMG06Sr"
      },
      "execution_count": null,
      "outputs": []
    }
  ]
}