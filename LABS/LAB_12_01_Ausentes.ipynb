{
  "nbformat": 4,
  "nbformat_minor": 0,
  "metadata": {
    "colab": {
      "provenance": [],
      "authorship_tag": "ABX9TyOmipg64yJ6/BAq6NTv0AsP",
      "include_colab_link": true
    },
    "kernelspec": {
      "name": "python3",
      "display_name": "Python 3"
    },
    "language_info": {
      "name": "python"
    }
  },
  "cells": [
    {
      "cell_type": "markdown",
      "metadata": {
        "id": "view-in-github",
        "colab_type": "text"
      },
      "source": [
        "<a href=\"https://colab.research.google.com/github/AprendaPracticando/AnaliticaPythonR1/blob/main/LABS/LAB_12_01_Ausentes.ipynb\" target=\"_parent\"><img src=\"https://colab.research.google.com/assets/colab-badge.svg\" alt=\"Open In Colab\"/></a>"
      ]
    },
    {
      "cell_type": "markdown",
      "source": [
        "# **LAB 12.01: Tratamiento de datos ausentes**"
      ],
      "metadata": {
        "id": "NeGoFlY1F7_g"
      }
    },
    {
      "cell_type": "markdown",
      "source": [
        "En este Lab se desea generar, paso a paso, un categórico de intervalo.\n",
        "Las tareas por realizar son:\n",
        "1.\tDefinir la estrategia de manejo de atípicos del caso.\n",
        "2.\tRevisión de existencia de datos ausentes.\n",
        "3.\tEstrategia de eliminación de filas con ausentes. \n"
      ],
      "metadata": {
        "id": "yAJ7FrKfF_xj"
      }
    },
    {
      "cell_type": "code",
      "execution_count": null,
      "metadata": {
        "id": "AormDa-mF7aP"
      },
      "outputs": [],
      "source": [
        "# Datos base\n",
        "import pandas as pd\n",
        "\n",
        "tipos_correctos={\n",
        "    'id_persona':object,\n",
        "    'clave_sobrevivencia':object,\n",
        "    'clase_viaje':object\n",
        "}\n",
        "personas_titanic_csv='https://raw.githubusercontent.com/AprendaPracticando/AnaliticaPythonR1/main/data/personas_titanic_v5.csv'\n",
        "titanic = pd.read_csv(personas_titanic_csv,\n",
        "      dtype=tipos_correctos)\n",
        "\n",
        "titanic['id_persona']=titanic['id_persona'].str.split('.').str.get(0)\n",
        "titanic['clave_sobrevivencia']=titanic['clave_sobrevivencia'].str.split('.').str.get(0)\n",
        "titanic['clase_viaje']=titanic['clase_viaje'].str.split('.').str.get(0)\n"
      ]
    },
    {
      "cell_type": "markdown",
      "source": [
        "## **Corrección de MAR usando requeridos indirectos y UDF**"
      ],
      "metadata": {
        "id": "y6DphAQuGaWe"
      }
    },
    {
      "cell_type": "code",
      "source": [
        "# Identifica los ausentes del campo sobrevivencia.\n",
        "titanic[['nombre','clave_sobrevivencia',\n",
        "         'sobrevivencia','id_bote',\n",
        "         'id_cuerpo']][(titanic['sobrevivencia'].isnull())]\n"
      ],
      "metadata": {
        "id": "veqvQyG9GefP"
      },
      "execution_count": null,
      "outputs": []
    },
    {
      "cell_type": "markdown",
      "source": [
        "Como podemos ver, hay tres filas con datos ausentes, pero sabemos también que a partir de **`id_bote`** y **`id_cuerpo`** podemos inferir sobrevivencia:\n",
        "1.\tSi **`id_bote`** no es nulo, quiere decir que la persona se subió a un bote salvavidas, y vivió.\n",
        "2.\tSi **`id_cuerpo`** no es nulo, quiere decir que le asignaron un número de cuerpo, porque murió.\n",
        "\n",
        "Elaboramos una función definida por el usuario para hacer el cálculo, y actualizamos **`sobrevivencia`** y **`clave_sobrevivencia`**.\n"
      ],
      "metadata": {
        "id": "_RCl_KQvGknT"
      }
    },
    {
      "cell_type": "code",
      "source": [
        "# Función que infiere el valor de sobreviencia a partir de \n",
        "# id_bote o id_cuerpo.\n",
        "def corrige_sobrevivencia(fila):\n",
        "  # El valor actual de sobrevivencia se asigna a una variable.\n",
        "  etiqueta=fila['sobrevivencia']\n",
        "  # Si id_cuerpo no es nulo, la etiqueta pasa a MURIÓ\n",
        "  if (not pd.isnull(fila['id_cuerpo'])):\n",
        "    etiqueta='MURIÓ'\n",
        "  # Si id_bote no es nulo, la etiqueta pasa a VIVIÓ\n",
        "  if (not pd.isnull(fila['id_bote'])):\n",
        "    etiqueta='VIVIÓ'\n",
        "  # Se retorna la etiqueta.\n",
        "  return etiqueta\n"
      ],
      "metadata": {
        "id": "g6-0jw4QG8gT"
      },
      "execution_count": null,
      "outputs": []
    },
    {
      "cell_type": "code",
      "source": [
        "def corrige_clave_sobrevivencia(fila):\n",
        "  # El valor actual de sobrevivencia se asigna a una variable.\n",
        "  etiqueta=fila['clave_sobrevivencia']\n",
        "  # Validamos que la etiqueta no esté vacía o sea nula\n",
        "  if (not pd.isnull(fila['clave_sobrevivencia'])):\n",
        "    if (fila['sobrevivencia']=='MURIÓ'):\n",
        "      etiqueta='0'\n",
        "    else:\n",
        "      etiqueta='1'     \n",
        "  # Se retorna la etiqueta.\n",
        "  return etiqueta\n"
      ],
      "metadata": {
        "id": "p0x446vdHF4Q"
      },
      "execution_count": null,
      "outputs": []
    },
    {
      "cell_type": "code",
      "source": [
        "# Se aplica la función definida por el usuario, a cada\n",
        "# fila del DataSet, actualizando sobrevivencia con el \n",
        "# valor retornado.\n",
        "titanic['sobrevivencia']=titanic.apply(corrige_sobrevivencia,axis=1)\n",
        "titanic['clave_sobrevivencia']=titanic.apply(corrige_clave_sobrevivencia,axis=1)\n"
      ],
      "metadata": {
        "id": "i0Uvo7-FHI86"
      },
      "execution_count": null,
      "outputs": []
    },
    {
      "cell_type": "code",
      "source": [
        "# Identifica los ausentes del campo sobrevivencia.\n",
        "# Sigue habiendo uno, porque no hay información ni en\n",
        "# cuerpo ni en bote, y no hay otra manera de saber si\n",
        "# vivió o murió.\n",
        "# Muestra las columnas nombre, clave_sobrevivencia,\n",
        "# sobrevivencia, id_bote y id_cuerpo, cuando sobrevivencia\n",
        "# sea nulo.\n",
        "titanic[['nombre','clave_sobrevivencia',\n",
        "         'sobrevivencia','id_bote',\n",
        "         'id_cuerpo']][(titanic['sobrevivencia'].isnull())]\n",
        "\n",
        "# Este dato es MNAR (missing not at random),\n",
        "# pues sistemáticamente, en todos los casos, si tenemos\n",
        "# bote o cuerpo, podemos inferir sobrevivencia.\n"
      ],
      "metadata": {
        "id": "duqG5k6iHSlf"
      },
      "execution_count": null,
      "outputs": []
    },
    {
      "cell_type": "markdown",
      "source": [
        "## **Corrección de MAR por asignación directa**"
      ],
      "metadata": {
        "id": "UM48sN-bHtH6"
      }
    },
    {
      "cell_type": "code",
      "source": [
        "# Identifica los ausentes del campo sexo.\n",
        "titanic[['nombre','sexo']][(titanic['sexo'].isnull())]\n"
      ],
      "metadata": {
        "id": "83FWkoR-H1Ky"
      },
      "execution_count": null,
      "outputs": []
    },
    {
      "cell_type": "markdown",
      "source": [
        "Las filas con el índice 148 y 237 tienen información suficiente para concluir que los pasajeros eran hombres.\n",
        "\n",
        "La fila con el índice 299 no tiene forma de inferir el sexo de la persona, porque no incluye título, y Alexis es un nombre que aplica tanto para hombres como para mujeres.\n",
        "\n",
        "Se actualizan los registros que se pueden corregir, de manera específica, usando **`at[]`**.\n"
      ],
      "metadata": {
        "id": "9ZOjca9HH6Pu"
      }
    },
    {
      "cell_type": "code",
      "source": [
        "# Se le asigna el valor 'HOMBRE' a la columna\n",
        "# sexo, a las filas con índice 148 y 237, usando\n",
        "# at[]\n",
        "titanic.at[148,'sexo']=\"HOMBRE\"\n",
        "titanic.at[237,'sexo']=\"HOMBRE\"\n",
        "\n",
        "\n"
      ],
      "metadata": {
        "id": "ezvrPzQdI9d-"
      },
      "execution_count": null,
      "outputs": []
    },
    {
      "cell_type": "code",
      "source": [
        "# Identifica los ausentes del campo sexo.\n",
        "titanic[['nombre','sexo']][(titanic['sexo'].isnull())]"
      ],
      "metadata": {
        "id": "I7nzMO09JBT0"
      },
      "execution_count": null,
      "outputs": []
    }
  ]
}