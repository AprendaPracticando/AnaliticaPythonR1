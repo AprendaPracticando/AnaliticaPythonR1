{
  "nbformat": 4,
  "nbformat_minor": 0,
  "metadata": {
    "colab": {
      "provenance": [],
      "authorship_tag": "ABX9TyOUJm4mHj39AnwE5gRsNPlP",
      "include_colab_link": true
    },
    "kernelspec": {
      "name": "python3",
      "display_name": "Python 3"
    },
    "language_info": {
      "name": "python"
    }
  },
  "cells": [
    {
      "cell_type": "markdown",
      "metadata": {
        "id": "view-in-github",
        "colab_type": "text"
      },
      "source": [
        "<a href=\"https://colab.research.google.com/github/AprendaPracticando/AnaliticaPythonR1/blob/main/Python_101.ipynb\" target=\"_parent\"><img src=\"https://colab.research.google.com/assets/colab-badge.svg\" alt=\"Open In Colab\"/></a>"
      ]
    },
    {
      "cell_type": "markdown",
      "source": [
        "# Fundamentos del lenguaje Python\n",
        "### Aprenda Practicando\n"
      ],
      "metadata": {
        "id": "wI2i36hkEbCT"
      }
    },
    {
      "cell_type": "markdown",
      "source": [
        "---\n",
        "\n",
        "## **DataTypes, variables y casting**"
      ],
      "metadata": {
        "id": "Fx5LHIo1EkMr"
      }
    },
    {
      "cell_type": "code",
      "execution_count": null,
      "metadata": {
        "id": "vG7HZpK8EWtK"
      },
      "outputs": [],
      "source": [
        "# Se declaran dos variables str\n",
        "sueldo='15000'\n",
        "prestaciones='8000'\n",
        "\n",
        "# Se convierten a su equivalente int\n",
        "sueldo=int(sueldo)\n",
        "prestaciones=int(prestaciones)"
      ]
    },
    {
      "cell_type": "markdown",
      "source": [
        "---\n",
        "## **Imprimiendo resultados**\n"
      ],
      "metadata": {
        "id": "04U7Xm8SF0xC"
      }
    },
    {
      "cell_type": "code",
      "source": [
        "# Usando print\n",
        "print('La suma de sueldo más prestaciones es:', sueldo+prestaciones)"
      ],
      "metadata": {
        "id": "sO0qGUBqE-SS"
      },
      "execution_count": null,
      "outputs": []
    },
    {
      "cell_type": "code",
      "source": [
        "# Usando print con F-String\n",
        "print(f'La suma de base y altura es: {sueldo+prestaciones}')"
      ],
      "metadata": {
        "id": "WbHwjj7FGLGc"
      },
      "execution_count": null,
      "outputs": []
    },
    {
      "cell_type": "code",
      "source": [
        "# Usando print con F-String con formato\n",
        "print(f'La suma de base y altura es: ${sueldo+prestaciones:,.2f}')"
      ],
      "metadata": {
        "id": "rJ2LovzFhxYy"
      },
      "execution_count": null,
      "outputs": []
    },
    {
      "cell_type": "markdown",
      "source": [
        "---\n",
        "## **Operadores**\n"
      ],
      "metadata": {
        "id": "-Cb_nZ8rK98Y"
      }
    },
    {
      "cell_type": "code",
      "source": [
        "# Suma\n",
        "ingresos=sueldo+prestaciones\n",
        "print(f'Ingresos: {ingresos:,.2f}')\n",
        "\n",
        "# Comparativo\n",
        "print(ingresos>45000)\n",
        "\n",
        "# Lógicos\n",
        "print((ingresos>25000) and (ingresos<100000))\n",
        "print((ingresos>25000) or (ingresos<100000))\n"
      ],
      "metadata": {
        "id": "2_0AFvTILBMr"
      },
      "execution_count": null,
      "outputs": []
    },
    {
      "cell_type": "markdown",
      "source": [
        "---\n",
        "## **Estructuras de decisión (condicionales)**\n"
      ],
      "metadata": {
        "id": "gYy5TbgAOEBD"
      }
    },
    {
      "cell_type": "code",
      "source": [
        "# Si el ingreso es mayor a 10000 notificarlo.\n",
        "if (ingresos>10000):\n",
        "    print('El ingreso es mayor a 10000')"
      ],
      "metadata": {
        "id": "OuXsOC6sLMl2"
      },
      "execution_count": null,
      "outputs": []
    },
    {
      "cell_type": "code",
      "source": [
        "# Si el ingreso es mayor a 25000 notificarlo, y si\n",
        "# no, también.\n",
        "if (ingresos>25000):\n",
        "    print('El ingreso es mayor a 25000')\n",
        "else:\n",
        "    print('El ingreso no es mayor a 10000')"
      ],
      "metadata": {
        "id": "z7CDczJiOY10"
      },
      "execution_count": null,
      "outputs": []
    },
    {
      "cell_type": "code",
      "source": [
        "# Si el ingreso no es mayor a 25000, evaluar si\n",
        "# es mayor a 20000 o no, y mostrar mensaje.\n",
        "if (ingresos>25000):\n",
        "    print('El ingreso es mayor a 25000')\n",
        "elif (ingresos>20000):\n",
        "    print('El ingreso es mayor a 20000')\n",
        "else:\n",
        "    print('El ingreso no es mayor a 20000')"
      ],
      "metadata": {
        "id": "6WPSBhrMOtgJ"
      },
      "execution_count": null,
      "outputs": []
    },
    {
      "cell_type": "markdown",
      "source": [
        "---\n",
        "## **Entrada de datos en consola**\n"
      ],
      "metadata": {
        "id": "gyvoEkiVQSeu"
      }
    },
    {
      "cell_type": "code",
      "source": [
        "# Se pregunta un dato por consola\n",
        "numero=input('Dame un número del 1 al 10:')\n",
        "print(numero)\n",
        "print(type(numero))"
      ],
      "metadata": {
        "id": "vVY-TyoaQXj4"
      },
      "execution_count": null,
      "outputs": []
    },
    {
      "cell_type": "markdown",
      "source": [
        "---\n",
        "## **Estructuras de control**"
      ],
      "metadata": {
        "id": "FyAZrh4KQEqH"
      }
    },
    {
      "cell_type": "code",
      "source": [
        "# while mientras se cumpla una condición\n",
        "n=10\n",
        "while (n<20):\n",
        "    n+=1\n",
        "    print(n)\n"
      ],
      "metadata": {
        "id": "YlqHbx8UQL0E"
      },
      "execution_count": null,
      "outputs": []
    },
    {
      "cell_type": "code",
      "source": [
        "# while infinito\n",
        "n=10\n",
        "while True:\n",
        "    n+=1\n",
        "    if (n<20):\n",
        "        print(n)\n",
        "        continue\n",
        "    else:\n",
        "        break"
      ],
      "metadata": {
        "id": "uAtPTLiRSK6W"
      },
      "execution_count": null,
      "outputs": []
    },
    {
      "cell_type": "code",
      "source": [
        "# Uso de for con range()\n",
        "for i in range(10):\n",
        "    print(i)"
      ],
      "metadata": {
        "id": "8legSuEQS9JT"
      },
      "execution_count": null,
      "outputs": []
    },
    {
      "cell_type": "code",
      "source": [
        "# Uso de for con range() \n",
        "# inicio a fin\n",
        "for i in range(1,10):\n",
        "    print(i)"
      ],
      "metadata": {
        "id": "1K0bz_GvTLuA"
      },
      "execution_count": null,
      "outputs": []
    },
    {
      "cell_type": "code",
      "source": [
        "# Uso de for con series\n",
        "palabra='APRENDA'\n",
        "for letra in palabra:\n",
        "    print(letra)"
      ],
      "metadata": {
        "id": "WtREZ_RqTbiv"
      },
      "execution_count": null,
      "outputs": []
    },
    {
      "cell_type": "markdown",
      "source": [
        "---\n",
        "## **Slicers**"
      ],
      "metadata": {
        "id": "mXR0i2txUVcx"
      }
    },
    {
      "cell_type": "code",
      "source": [
        "#  F  O  N  Ó  G  R  A  F  O\n",
        "#  0  1  2  3  4  5  6  7  8\n",
        "# -9 -8 -7 -6 -5 -4 -3 -2 -1\n",
        "\n",
        "palabra=\"FONÓGRAFO\"\n",
        "print(len(palabra))\n",
        "print(palabra[0])\n",
        "print(palabra[2:5])\n",
        "print(palabra[:5])\n",
        "print(palabra[2:])\n",
        "print(palabra[-2])"
      ],
      "metadata": {
        "id": "brG1rCUTUUdy"
      },
      "execution_count": null,
      "outputs": []
    },
    {
      "cell_type": "markdown",
      "source": [
        "--- \n",
        "## **Funciones**\n"
      ],
      "metadata": {
        "id": "P0DEvQJDdpZf"
      }
    },
    {
      "cell_type": "code",
      "source": [
        "# Se define una función que retorna\n",
        "# el cuadrado de un valor dado\n",
        "def calcular_cuadrado(n):\n",
        "    x=n*n\n",
        "    return x\n",
        "\n",
        "print(calcular_cuadrado(4))"
      ],
      "metadata": {
        "id": "2exHntc_dsLH"
      },
      "execution_count": null,
      "outputs": []
    },
    {
      "cell_type": "markdown",
      "source": [
        "---\n",
        "## **Tuplas**\n",
        "\n"
      ],
      "metadata": {
        "id": "mgXi9VLjYdQ_"
      }
    },
    {
      "cell_type": "code",
      "source": [
        "# Definiendo una tupla.\n",
        "tupla_1=(14,56,28,99,355)\n",
        "tupla_2='A','B','C'\n",
        "\n",
        "# Verificando que tupla_2\n",
        "# es una tupla\n",
        "print(type(tupla_2))\n",
        "\n",
        "# Recuperando el elemento\n",
        "# con índice 2, de la tupla.\n",
        "print(tupla_1[2])"
      ],
      "metadata": {
        "id": "20elXWqFYie0"
      },
      "execution_count": null,
      "outputs": []
    },
    {
      "cell_type": "markdown",
      "source": [
        "--- \n",
        "## **Listas**\n"
      ],
      "metadata": {
        "id": "A-1Lu7-JZ8hh"
      }
    },
    {
      "cell_type": "code",
      "source": [
        "# Definiendo una lista\n",
        "lista=[10,55,74,89,10]\n",
        "\n",
        "# Verificando que es una lista\n",
        "print(type(lista))\n",
        "\n",
        "# Recuperando el número de\n",
        "# elementos en la lista\n",
        "print(len(lista))\n",
        "\n",
        "# Recuperando elemento\n",
        "# con el índice 2 de\n",
        "# la lista\n",
        "print(lista[2])"
      ],
      "metadata": {
        "id": "04VPMA5KaA8X"
      },
      "execution_count": null,
      "outputs": []
    },
    {
      "cell_type": "code",
      "source": [
        "# Verificando su 22 está\n",
        "# en la lista\n",
        "print(22 in lista)\n",
        "\n",
        "# Contando cuántas veces\n",
        "# está el 10 en la lista\n",
        "print(lista.count(10))\n",
        "\n",
        "# Verificando qué índice\n",
        "# tiene el valor 74\n",
        "lista.index(74)"
      ],
      "metadata": {
        "id": "1E4hpwuDgd1K"
      },
      "execution_count": null,
      "outputs": []
    },
    {
      "cell_type": "code",
      "source": [
        "# Listas coneniendo listas\n",
        "empleados=[\n",
        "    [10010,'Juan','Garza','H'],\n",
        "    [10012,'Diana','Almaguer','F']\n",
        "]\n",
        "\n",
        "# Extrayendo datos anidados\n",
        "print(empleados[1][2])"
      ],
      "metadata": {
        "id": "CcLefY3if8eq"
      },
      "execution_count": null,
      "outputs": []
    },
    {
      "cell_type": "markdown",
      "source": [
        "---\n",
        "## **Diccionarios**\n"
      ],
      "metadata": {
        "id": "mT0FVt_icrVP"
      }
    },
    {
      "cell_type": "code",
      "source": [
        "# Se declara un diccionario\n",
        "diccionario={\n",
        "    1:'Blanco',\n",
        "    2:'Azul',\n",
        "    3:'Rojo',\n",
        "    4:'Verde'\n",
        "}\n",
        "\n",
        "# Recuperando un valor\n",
        "# usando su llave\n",
        "print(diccionario.get(2,'No se encontró'))\n",
        "print(diccionario.get(8,'No se encontró'))"
      ],
      "metadata": {
        "id": "9DuTgdtjcqDN"
      },
      "execution_count": null,
      "outputs": []
    },
    {
      "cell_type": "code",
      "source": [
        "# Validando si una llave existe\n",
        "print(8 in diccionario.keys())\n",
        "\n",
        "# Validando si un valor existe\n",
        "print('Rojo' in diccionario.values())"
      ],
      "metadata": {
        "id": "icwmjuIefUxU"
      },
      "execution_count": null,
      "outputs": []
    },
    {
      "cell_type": "code",
      "source": [
        "# Leyendo el diccionario\n",
        "for e in diccionario:\n",
        "    print(e)\n",
        "\n",
        "# Leyendo llaves y valores\n",
        "for k,v in diccionario.items():\n",
        "    print(f'La llave {k} vale {v} ')"
      ],
      "metadata": {
        "id": "yob8RO2zfRBl"
      },
      "execution_count": null,
      "outputs": []
    },
    {
      "cell_type": "code",
      "source": [
        "# Diccionario conteniendo listas\n",
        "productos={\n",
        "    '00202F':['LIMPIADOR BASE','LTO',77.3,108.50],\n",
        "    '03992A':['AMONIACO','GAL',55.36,85.11],\n",
        "    '29928M':['DISOLVENTE R2','LTO',91.22,201.54]\n",
        "}\n",
        "\n",
        "# Imprimiendo la unidad de medida'\n",
        "# del producto 03992A.\n",
        "print(productos['03992A'][1])"
      ],
      "metadata": {
        "id": "CRHiO96CfwJL"
      },
      "execution_count": null,
      "outputs": []
    }
  ]
}
