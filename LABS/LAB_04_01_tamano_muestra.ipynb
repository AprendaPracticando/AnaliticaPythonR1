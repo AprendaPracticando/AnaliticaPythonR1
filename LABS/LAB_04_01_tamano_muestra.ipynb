{
  "nbformat": 4,
  "nbformat_minor": 0,
  "metadata": {
    "colab": {
      "provenance": [],
      "authorship_tag": "ABX9TyNt38C7VxnJ+J6DiG7OLHMj",
      "include_colab_link": true
    },
    "kernelspec": {
      "name": "python3",
      "display_name": "Python 3"
    },
    "language_info": {
      "name": "python"
    }
  },
  "cells": [
    {
      "cell_type": "markdown",
      "metadata": {
        "id": "view-in-github",
        "colab_type": "text"
      },
      "source": [
        "<a href=\"https://colab.research.google.com/github/AprendaPracticando/AnaliticaPythonR1/blob/main/LAB_04_01_tamano_muestra.ipynb\" target=\"_parent\"><img src=\"https://colab.research.google.com/assets/colab-badge.svg\" alt=\"Open In Colab\"/></a>"
      ]
    },
    {
      "cell_type": "markdown",
      "source": [
        "# **LAB 04.01: Calcular el tamaño de la muestra para el caso**"
      ],
      "metadata": {
        "id": "Np1Ei6SeHbsw"
      }
    },
    {
      "cell_type": "markdown",
      "source": [
        "Para el cálculo de la muestra utilizaremos la siguiente fórmula:\n",
        "\n",
        "```\n",
        "n = (((Z*Z)*(p*q)*N)/((N*(E*E))+((Z*Z)*(p*q))))\n",
        "```\n",
        "\n",
        "Donde:\n",
        "- Z es el coeficiente de confianza. Lo más común es 90%=1.645, 95%=1.96, 99%=2.576\n",
        "- p es la probabilidad de que ocurra un evento; si no se conoce, típicamente es del 50% (0.5).\n",
        "- q es la probabilidad de que no ocurra el evento; es (1-p)\n",
        "- E es el error máximo aceptado; típicamente, es el 5% (0.05)\n",
        "- N es el tamaño de la población."
      ],
      "metadata": {
        "id": "uhSgRGsHpr4X"
      }
    },
    {
      "cell_type": "code",
      "source": [
        "# Módulo para trabajar con Expresiones Regulares\n",
        "import re"
      ],
      "metadata": {
        "id": "DzM4WNobpz7j"
      },
      "execution_count": null,
      "outputs": []
    },
    {
      "cell_type": "code",
      "source": [
        "# Preguntar Z\n",
        "# Voy a simular una opción A=90%, B=95%, y C=99%\n",
        "print(\"Intervalos de confianza: A=90%, B=95%, y C=99%\")\n",
        "while True:\n",
        "    confianza=input(r\"Qué intervalo de confianza deseas (omisión=99%) [A, B o C]: \")\n",
        "    if (confianza==\"\"):\n",
        "        confianza='C'\n",
        "    if (not bool(re.match(r\"^[ABC]{1}$\",confianza))):\n",
        "        print(\"Solo se permite A, B, o C\")\n",
        "        continue\n",
        "    if (confianza==\"A\"):\n",
        "        print('Nivel de confianza establecido al 90%')\n",
        "        Z=1.645\n",
        "    if (confianza==\"B\"):\n",
        "        print('Nivel de confianza establecido al 95%')        \n",
        "        Z=1.96\n",
        "    if (confianza==\"C\"):\n",
        "        print('Nivel de confianza establecido al 99%')\n",
        "        Z=2.576\n",
        "    break"
      ],
      "metadata": {
        "id": "x5efDdQxp5Du"
      },
      "execution_count": null,
      "outputs": []
    },
    {
      "cell_type": "code",
      "source": [
        "# Preguntar p y calcular q\n",
        "# Es un valor flotante, mayor a cero pero menor a 1, no se puede omitir\n",
        "\n",
        "while True:\n",
        "    try:\n",
        "        _p=input(r\"Cuál es la probabilida de que ocurra el evento (omisión=50%):\")\n",
        "        # Si se omite, toma el valor default\n",
        "        if (_p==\"\"):\n",
        "            p=0.5\n",
        "            break\n",
        "        # Validar que sea numérico\n",
        "        p=float(_p)\n",
        "        # Validar que esté en rango\n",
        "        if (p<=0 or p>=1):\n",
        "            print(\"El dato debe estar entre 0 y 1\")\n",
        "            continue\n",
        "    except:\n",
        "        print(\"El dato debe ser numérico\")\n",
        "        continue\n",
        "    else:\n",
        "        break\n",
        "\n",
        "q=(1-p)\n",
        "\n",
        "print(f'Probabilidad de que ocurra el evento: {p:%}')\n",
        "print(f'Probabilidad de que no ocurra el evento: {p:%}')"
      ],
      "metadata": {
        "id": "RpZ3qtuFqqWY"
      },
      "execution_count": null,
      "outputs": []
    },
    {
      "cell_type": "code",
      "source": [
        "# Preguntar E\n",
        "# Es un valor flotante, mayor a cero pero menor a 1, no se puede omitir\n",
        "\n",
        "while True:\n",
        "    try:\n",
        "        _E=input(r\"Cuál es margen de error (omisión=5%):\")\n",
        "        # Si se omite, toma el valor default\n",
        "        if (_E==\"\"):\n",
        "            E=0.05\n",
        "            break\n",
        "        # Validar que sea numérico\n",
        "        E=float(_E)\n",
        "        # Validar que esté en rango\n",
        "        if (E<=0 or E>=1):\n",
        "            print(\"El dato debe estar entre 0 y 1\")\n",
        "            continue\n",
        "    except:\n",
        "        print(\"El dato debe ser numérico\")\n",
        "        continue\n",
        "    else:\n",
        "        break\n",
        "\n",
        "print(f'Margen de error: {E:%}')"
      ],
      "metadata": {
        "id": "n2HcbXTMqvBz"
      },
      "execution_count": null,
      "outputs": []
    },
    {
      "cell_type": "code",
      "source": [
        "# Preguntar N\n",
        "# Es un valor flotante, mayor a cero, no se puede omitir\n",
        "\n",
        "while True:\n",
        "    try:\n",
        "        _N=input(r\"Cuál es el tamaño de la población:\")\n",
        "        # Si se omite, toma el valor default\n",
        "        if (_N==\"\"):\n",
        "            print(\"El dato no se puede omitir\")\n",
        "            continue\n",
        "        # Validar que sea numérico\n",
        "        N=float(_N)\n",
        "        # Validar que esté en rango\n",
        "        if (N<=0):\n",
        "            print(\"El dato debe ser mayor a cero\")\n",
        "            continue\n",
        "    except:\n",
        "        print(\"El dato debe ser numérico\")\n",
        "        continue\n",
        "    else:\n",
        "        break"
      ],
      "metadata": {
        "id": "KL8lisy7q0sO"
      },
      "execution_count": null,
      "outputs": []
    },
    {
      "cell_type": "code",
      "source": [
        "# Cálculo de la muestra estadística\n",
        "\n",
        "n = (((Z*Z)*(p*q)*N)/((N*(E*E))+((Z*Z)*(p*q))))\n",
        "print(f'El tamaño de la muestra estadística es de {n}')"
      ],
      "metadata": {
        "id": "ZTIfMM2mq6LR"
      },
      "execution_count": null,
      "outputs": []
    }
  ]
}
