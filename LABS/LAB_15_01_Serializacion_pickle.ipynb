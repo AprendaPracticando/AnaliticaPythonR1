{
  "nbformat": 4,
  "nbformat_minor": 0,
  "metadata": {
    "colab": {
      "provenance": [],
      "authorship_tag": "ABX9TyNSgBwFml1NWRY1KrVH4gIN",
      "include_colab_link": true
    },
    "kernelspec": {
      "name": "python3",
      "display_name": "Python 3"
    },
    "language_info": {
      "name": "python"
    }
  },
  "cells": [
    {
      "cell_type": "markdown",
      "metadata": {
        "id": "view-in-github",
        "colab_type": "text"
      },
      "source": [
        "<a href=\"https://colab.research.google.com/github/AprendaPracticando/AnaliticaPythonR1/blob/main/LABS/LAB_15_01_Serializacion_pickle.ipynb\" target=\"_parent\"><img src=\"https://colab.research.google.com/assets/colab-badge.svg\" alt=\"Open In Colab\"/></a>"
      ]
    },
    {
      "cell_type": "markdown",
      "source": [
        "# **LAB 15.01: Serialización de un DataFrame usando Pickle**"
      ],
      "metadata": {
        "id": "cTl5OdWI6u5f"
      }
    },
    {
      "cell_type": "markdown",
      "source": [
        "En este Lab se utilizarán las técnicas de serialización y deserialización, para comprobar que se puede usar Pickle para el transporte de información sin pérdida o corrupción de contenidos.\n",
        "\n",
        "Las tareas por realizar son:\n",
        "1.\tRecuperar los datos previamente limpiados y tratados.\n",
        "2.\tSerializar a pickle y almacenar en un archivo.\n",
        "3.\tLeer desde un archivo pickle y deserializar.\n"
      ],
      "metadata": {
        "id": "9cJZAx5O6xzn"
      }
    },
    {
      "cell_type": "markdown",
      "source": [
        "## **Recuperar los datos previamente limpiados y tratados**"
      ],
      "metadata": {
        "id": "p9rybTgr63Oi"
      }
    },
    {
      "cell_type": "code",
      "execution_count": null,
      "metadata": {
        "id": "lJMBKtAx6qCA"
      },
      "outputs": [],
      "source": [
        "import pandas as pd\n",
        "\n",
        "# Se almacena en una variable la liga de acceso a los \n",
        "# datos master que se encuentran en Github\n",
        "url_master='https://raw.githubusercontent.com/AprendaPracticando/AnaliticaPythonR1/main/data/operaciones_master.csv'\n",
        "\n",
        "# Se enumeran los tipos de datos correctos para los datos.\n",
        "tipos_esperados={\n",
        "  'id_operacion':str,\n",
        "  'fecha_operacion':object,\n",
        "  'precio':float,\n",
        "  'public_id':str,\n",
        "  'codigo_frente_agua':str,\n",
        "  'codigo_vista':str,\n",
        "  'codigo_condicion':str,\n",
        "  'agente_id':str,\n",
        "  'codigo_pais':str,\n",
        "  'año':str,\n",
        "  'año_mes':str,\n",
        "  'mes':str,\n",
        "  'vista':str,\n",
        "  'condición':str,\n",
        "  'país':str,\n",
        "  'agente':str,\n",
        "  'anio_construc':str,\n",
        "  'latitud':str,\n",
        "  'longitud':str,\n",
        "  'codigo_postal':str,\n",
        "  'm2_construccion':float,\n",
        "  'm2_terreno':float,\n",
        "  'm2_sobre_calle':float,\n",
        "  'm2_sotano':float,\n",
        "  'pisos':float,\n",
        "  'recamaras':float,\n",
        "  'banios':float,\n",
        "  'anio_renovacion':str\n",
        "}\n",
        "\n",
        "# Se leen los datos y se cargan en un DataFrame\n",
        "origen=pd.read_csv(url_master,dtype=tipos_esperados)\n",
        "\n",
        "# Se muestra el resultado\n",
        "origen.shape\n"
      ]
    },
    {
      "cell_type": "markdown",
      "source": [
        "## **Serializar a pickle y almacenar en un archivo**"
      ],
      "metadata": {
        "id": "PIXYSK__7cbh"
      }
    },
    {
      "cell_type": "code",
      "source": [
        "# Librería para poder usar pickle\n",
        "import pickle\n",
        "\n",
        "# Se abrirá un archivo llamado datos.pickle, en modo\n",
        "# write (w) binary (b) en donde, si existe lo remplaza\n",
        "# y si no existe lo crea (+). El archivo tendrá un\n",
        "# apuntador llamado f.\n",
        "with open(\"datos.pickle\",\"wb+\") as f:\n",
        "    # Se serializa usando pickle el contenido del objeto \n",
        "    # llamado origen, y se guarda en el archivo.\n",
        "    pickle.dump(origen,f)\n",
        "\n",
        "# El archivo ya debe existir en el ambiente.\n"
      ],
      "metadata": {
        "id": "J8mwM9ZY7gop"
      },
      "execution_count": null,
      "outputs": []
    },
    {
      "cell_type": "markdown",
      "source": [
        "## **Leer desde un archivo pickle y deserializar**"
      ],
      "metadata": {
        "id": "KBp73tXs7lXB"
      }
    },
    {
      "cell_type": "code",
      "source": [
        "# Se abrirá un archivo llamado datos.pickle, en modo\n",
        "# read (r) binary (b). El archivo tendrá un\n",
        "# apuntador llamado f.\n",
        "with open(\"datos.pickle\",\"rb\") as f:\n",
        "    destino=pickle.load(f)\n",
        "\n",
        "# Se comprueba que el nuevo objeto es un DataFrame, con\n",
        "# el contenido original.\n",
        "destino.shape\n"
      ],
      "metadata": {
        "id": "QRwXMQLi7pmB"
      },
      "execution_count": null,
      "outputs": []
    }
  ]
}