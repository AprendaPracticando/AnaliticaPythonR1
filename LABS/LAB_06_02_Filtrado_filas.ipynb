{
  "nbformat": 4,
  "nbformat_minor": 0,
  "metadata": {
    "colab": {
      "provenance": [],
      "authorship_tag": "ABX9TyNhcih/NqY+43v24HxK5rE+",
      "include_colab_link": true
    },
    "kernelspec": {
      "name": "python3",
      "display_name": "Python 3"
    },
    "language_info": {
      "name": "python"
    }
  },
  "cells": [
    {
      "cell_type": "markdown",
      "metadata": {
        "id": "view-in-github",
        "colab_type": "text"
      },
      "source": [
        "<a href=\"https://colab.research.google.com/github/AprendaPracticando/AnaliticaPythonR1/blob/main/LAB_06_02_Filtrado_filas.ipynb\" target=\"_parent\"><img src=\"https://colab.research.google.com/assets/colab-badge.svg\" alt=\"Open In Colab\"/></a>"
      ]
    },
    {
      "cell_type": "markdown",
      "source": [
        "# **LAB 06.02: Técnicas de filtrado de filas**"
      ],
      "metadata": {
        "id": "VV2H5nWEBx5t"
      }
    },
    {
      "cell_type": "markdown",
      "source": [
        "En este Lab se revisan estrategias para filtrar filas usando loc[] y where().\n",
        "Las tareas por realizar son:\n",
        "\n",
        "1.\tFiltrado usando loc[], con una condición.\n",
        "2.\tFiltrado usando loc[], con varias condiciones.\n",
        "3.\tFiltrado usando loc[], combinado con filtrado de columnas.\n",
        "4.\tFiltrado usando loc[], con isin().\n",
        "    1. Valores incluidos en una lista.\n",
        "    1. Valores no incluidos en una lista.\n",
        "5.\tFiltrado usando where().\n"
      ],
      "metadata": {
        "id": "g0rU3fhwB7Wp"
      }
    },
    {
      "cell_type": "code",
      "source": [
        "# Datos base\n",
        "import pandas as pd\n",
        "pasajeros_titanic_csv='https://raw.githubusercontent.com/AprendaPracticando/AnaliticaPythonR1/main/data/pasajeros_titanic.csv'\n",
        "titanic = pd.read_csv(pasajeros_titanic_csv)"
      ],
      "metadata": {
        "id": "H0QZHqbtCL1Y"
      },
      "execution_count": null,
      "outputs": []
    },
    {
      "cell_type": "markdown",
      "source": [
        "## **Filtrado usando loc[], con una condición**"
      ],
      "metadata": {
        "id": "liIIZzf-CVAd"
      }
    },
    {
      "cell_type": "code",
      "execution_count": null,
      "metadata": {
        "id": "qAtLQtOVBw7F"
      },
      "outputs": [],
      "source": [
        "# Mostrar las filas donde clase_viaje sea 1.0, usando loc[].\n",
        "# Como sólo es una condición, no se requiere encerrar la \n",
        "# condición entre paréntesis.\n",
        "primera_clase=titanic.loc[titanic['clase_viaje']==1.0]\n",
        "\n",
        "primera_clase"
      ]
    },
    {
      "cell_type": "markdown",
      "source": [
        "## **Filtrado usando loc[], con varias condiciones**"
      ],
      "metadata": {
        "id": "8D_cCbA-CemM"
      }
    },
    {
      "cell_type": "code",
      "source": [
        "# Mostrar las filas donde clase_viaje sea 1.0, \n",
        "# y sexo sea 'mujer', usando loc[].\n",
        "# Como se usa más de una condición, éstas se \n",
        "# encierran entre paréntesis.\n",
        "mujeres_primera_clase=titanic.loc[\n",
        "    (titanic['clase_viaje']==1.0) & \n",
        "    (titanic['sexo']=='mujer')\n",
        "]\n",
        "\n",
        "# Se muestran las filas seleccionadas.\n",
        "mujeres_primera_clase\n"
      ],
      "metadata": {
        "id": "S4V5fUFwCjbd"
      },
      "execution_count": null,
      "outputs": []
    },
    {
      "cell_type": "markdown",
      "source": [
        "## **Filtrado usando loc[], combinado con filtrado de columnas**"
      ],
      "metadata": {
        "id": "PoH-b90_Cnp1"
      }
    },
    {
      "cell_type": "code",
      "source": [
        "# Combinación de filtrado de columnas y filas.\n",
        "# Mostrar el nombre y la edad, de las filas \n",
        "# donde sexo sea mujer.\n",
        "columnas_filas=titanic[['nombre', \n",
        "               'edad']].loc[titanic['sexo']=='mujer']\n",
        "\n",
        "columnas_filas"
      ],
      "metadata": {
        "id": "9jemJuvyCtHa"
      },
      "execution_count": null,
      "outputs": []
    },
    {
      "cell_type": "markdown",
      "source": [
        "## **Filtrado usando loc[], con isin()**"
      ],
      "metadata": {
        "id": "7bXRCc9PCyPH"
      }
    },
    {
      "cell_type": "code",
      "source": [
        "# Uso de filtro, comparando con el contenido de una lista.\n",
        "# Recuperar las filas donde las cabinas sean C32, C26 y C80.\n",
        "# Mostrar sólo las columnas nombre y cabina.\n",
        "cabinas_especiales=['C32','C26','C80']\n",
        "\n",
        "especiales=titanic[['nombre','cabina']].loc[titanic['cabina'].isin(cabinas_especiales)]\n",
        "\n",
        "especiales"
      ],
      "metadata": {
        "id": "tGVheiMgC3nU"
      },
      "execution_count": null,
      "outputs": []
    },
    {
      "cell_type": "code",
      "source": [
        "# Uso de filtro, comparando con el contenido de una lista.\n",
        "# Recuperar las filas donde las cabinas NO sean C32, C26 y C80.\n",
        "# Mostrar sólo las columnas nombre y cabina.\n",
        "cabinas_especiales=['C32','C26','C80']\n",
        "\n",
        "no_especiales=titanic[['nombre','cabina']].loc[~titanic['cabina'].isin(cabinas_especiales)]\n",
        "\n",
        "no_especiales\n"
      ],
      "metadata": {
        "id": "0VRi1-3tC_Ks"
      },
      "execution_count": null,
      "outputs": []
    },
    {
      "cell_type": "markdown",
      "source": [
        "## **Filtrado usando where()**"
      ],
      "metadata": {
        "id": "8wXeX4juDGeU"
      }
    },
    {
      "cell_type": "code",
      "source": [
        "# Se filtra el DataFrame usando where, de tal manera que \n",
        "# se recuperan todas las filas; en aquellos casos donde \n",
        "# sexo no sea mujer o sobrevivencia no sea 0, las columnas \n",
        "# son rellenadas con NaN.\n",
        "mujeres_vivas_where=titanic.where((titanic.sexo=='mujer') & \n",
        "                                  (titanic.sobrevivencia==1.0))\n",
        "\n",
        "# Se muestra el resultado. Son 1310 filas de 1310, las \n",
        "# que se recuperan.\n",
        "mujeres_vivas_where\n"
      ],
      "metadata": {
        "id": "epHrjeS7DKIk"
      },
      "execution_count": null,
      "outputs": []
    }
  ]
}
