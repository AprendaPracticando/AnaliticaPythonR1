{
  "nbformat": 4,
  "nbformat_minor": 0,
  "metadata": {
    "colab": {
      "provenance": [],
      "authorship_tag": "ABX9TyNKBQ9V5gCngnASiGr9vzxC",
      "include_colab_link": true
    },
    "kernelspec": {
      "name": "python3",
      "display_name": "Python 3"
    },
    "language_info": {
      "name": "python"
    }
  },
  "cells": [
    {
      "cell_type": "markdown",
      "metadata": {
        "id": "view-in-github",
        "colab_type": "text"
      },
      "source": [
        "<a href=\"https://colab.research.google.com/github/AprendaPracticando/AnaliticaPythonR1/blob/main/LABS/LAB_11_02_Categorico_intervalo.ipynb\" target=\"_parent\"><img src=\"https://colab.research.google.com/assets/colab-badge.svg\" alt=\"Open In Colab\"/></a>"
      ]
    },
    {
      "cell_type": "markdown",
      "source": [
        "# **LAB 11.02: Generación de categóricos de intervalo**"
      ],
      "metadata": {
        "id": "lgIJbb8vwW5W"
      }
    },
    {
      "cell_type": "markdown",
      "source": [
        "En este Lab se desea generar, paso a paso, un categórico de intervalo.\n",
        "Las tareas por realizar son:\n",
        "1.\tGenerar rangos de intervalos estándar, usando cut().\n",
        "2.\tGenerar una tabla de frecuencia absoluta usando value_counts().\n",
        "3.\tEstablecer manualmente los límites de intervalo (bins).\n",
        "4.\tCambiar intervalos a semi-cerrado a la derecha [x,y) (right).\n",
        "5.\tDefinir las etiquetas de intervalo (labels).\n",
        "6.\tGeneración de categórico de intervalo usando UDF's.\n"
      ],
      "metadata": {
        "id": "Aipp-kLmwl3F"
      }
    },
    {
      "cell_type": "code",
      "execution_count": null,
      "metadata": {
        "id": "2gAPzYfFwV4g"
      },
      "outputs": [],
      "source": [
        "# Datos base\n",
        "import pandas as pd\n",
        "\n",
        "tipos_correctos={\n",
        "    'id_persona':object,\n",
        "    'clave_sobrevivencia':object,\n",
        "    'clase_viaje':object\n",
        "}\n",
        "\n",
        "personas_titanic_csv='https://raw.githubusercontent.com/AprendaPracticando/AnaliticaPythonR1/main/data/personas_titanic_v4.csv'\n",
        "titanic = pd.read_csv(personas_titanic_csv,dtype=tipos_correctos)\n",
        "\n",
        "titanic['id_persona']=titanic['id_persona'].str.split('.').str.get(0)\n",
        "titanic['clave_sobrevivencia']=titanic['clave_sobrevivencia'].str.split('.').str.get(0)\n",
        "titanic['clase_viaje']=titanic['clase_viaje'].str.split('.').str.get(0)\n"
      ]
    },
    {
      "cell_type": "markdown",
      "source": [
        "## **Generar rangos de intervalos estándar, usando cut()**"
      ],
      "metadata": {
        "id": "Iz6MxBewxQSC"
      }
    },
    {
      "cell_type": "markdown",
      "source": [
        "En el caso de ejemplo, queremos generar un categórico descriptivo equi-valente al campo rango_edad, tomando como base los valores de la columna edad, de acuerdo con la siguiente tabla.\n",
        "Como puede apreciarse, se trata de intervalos semi-cerrados a la derecha.\n",
        "\n",
        "|Categoría|Rango|\n",
        "|---|---|\n",
        "|INFANTES|[0,12)|\n",
        "|JÓVENES|[12,21)|\n",
        "|ADULTOS|[21,35)|\n",
        "|MEDIANA EDAD|[35,45)|\n",
        "|ADULTOS MAYORES|[45,∞)|\n",
        "\n",
        "Lo que se terminará haciendo es lo siguiente:\n",
        "1.\tEvoluciona el proceso, para entender el uso de la función **`cut()`**.\n",
        "2.\tGenera 5 (k=5) rangos de intervalo (clases), a partir de los valores de edad, en una nueva columna llamada **`rango_edad`**.\n",
        "3.\tGenera una tabla de frecuencias para la columna **`rango_edad`**, usando la función **`value_counts()`**.\n",
        "4.\tCambiar de semi-cerrado a la derecha, a semi-cerrado a la izquierda, es decir, de **`(a,b]`** a **`[a,b)`**.\n",
        "5.\tEstablece valores específicos como límite de intervalo.\n",
        "6.\tEstablece las etiquetas correctas para las clases.\n"
      ],
      "metadata": {
        "id": "86q-ilyxxWUl"
      }
    },
    {
      "cell_type": "code",
      "source": [
        "# Generar 5 intervalos, con un número de clases igual a 5.\n",
        "k=5\n",
        "titanic['rango_edad']=pd.cut(titanic['edad'], bins=k)\n",
        "\n",
        "# Ver el resultado, mostrando id_persona, edad y rango_edad\n",
        "titanic[['id_persona', 'edad', 'rango_edad']]\n"
      ],
      "metadata": {
        "id": "k_jucYcmz3xD"
      },
      "execution_count": null,
      "outputs": []
    },
    {
      "cell_type": "markdown",
      "source": [
        "## **Generar una tabla de frecuencia absoluta usando value_counts()**"
      ],
      "metadata": {
        "id": "2b4BcXaw0C6_"
      }
    },
    {
      "cell_type": "code",
      "source": [
        "# Imprime la frecuencia absoluta de cada clase generada\n",
        "titanic['rango_edad'].value_counts()\n"
      ],
      "metadata": {
        "id": "whYp63eD0HTG"
      },
      "execution_count": null,
      "outputs": []
    },
    {
      "cell_type": "markdown",
      "source": [
        "## **Cambiar intervalos a semi-cerrado a la derecha [a,b) (right)**"
      ],
      "metadata": {
        "id": "_YUccYvg0KhJ"
      }
    },
    {
      "cell_type": "code",
      "source": [
        "# Generar 5 intervalos, con un número de clases igual a 5, \n",
        "# donde se tenga un modo [x,y), es decir, donde la clase \n",
        "# contenga los valores mayores o iguales al valor inicial, \n",
        "# y menores al valor final.\n",
        "k=5\n",
        "titanic['rango_edad']=pd.cut(titanic['edad'], bins=k, right=False)\n",
        "\n",
        "# Imprime la frecuencia absoluta de cada clase generada\n",
        "titanic['rango_edad'].value_counts()\n"
      ],
      "metadata": {
        "id": "0_Qy1mbh0Qch"
      },
      "execution_count": null,
      "outputs": []
    },
    {
      "cell_type": "markdown",
      "source": [
        "## **Establecer manualmente los límites de intervalo (bins)**"
      ],
      "metadata": {
        "id": "uyYuAmPF0X4z"
      }
    },
    {
      "cell_type": "code",
      "source": [
        "# Determinamos el mímino y el máximo del rango.\n",
        "# A máximo le sumamos 1, para que, en caso de haber\n",
        "# edades iguales al máximo (cosa que va a suceder),\n",
        "# no queden fuera del análisis, debido a que el modo\n",
        "# que estamos usando excluye el límite superior.\n",
        "mínimo=titanic['edad'].min()\n",
        "máximo=titanic['edad'].max()+1"
      ],
      "metadata": {
        "id": "7ZYUbPQF0lGu"
      },
      "execution_count": null,
      "outputs": []
    },
    {
      "cell_type": "code",
      "source": [
        "# Se colocan en una lista los valores de referencia para \n",
        "# los rangos de valores.\n",
        "# Ya no es necesario especificar k, porque inferirá el número \n",
        "# a partir de los valores límite que pongamos en la lista, \n",
        "# menos 1.\n",
        "limites=[mínimo,12,21,35,45,máximo]\n",
        "\n",
        "# Se generan de nuevo los rangos de intervalo.\n",
        "titanic['rango_edad']=pd.cut(titanic['edad'], bins=limites, right=False)\n",
        "\n",
        "# Imprime la frecuencia absoluta de cada clase generada\n",
        "titanic['rango_edad'].value_counts()\n"
      ],
      "metadata": {
        "id": "MiXdv7hc0oBp"
      },
      "execution_count": null,
      "outputs": []
    },
    {
      "cell_type": "markdown",
      "source": [
        "## **Definir las etiquetas de intervalo (labels)**"
      ],
      "metadata": {
        "id": "ppxh6QEZ0yeS"
      }
    },
    {
      "cell_type": "code",
      "source": [
        "# Almacena las etiquetas de las clases en una lista.\n",
        "etiquetas_clase=['INFANTES','JÓVENES','ADULTOS',\n",
        "      'MEDIANA EDAD','ADULTOS MAYORES']\n",
        "\n",
        "mínimo=titanic['edad'].min()\n",
        "máximo=titanic['edad'].max()+1\n",
        "limites=[mínimo,12,21,35,45,máximo]\n",
        "\n",
        "# Se generan de nuevo los rangos de intervalo.\n",
        "titanic['rango_edad']=pd.cut(titanic['edad'], \n",
        "                             bins=limites,\n",
        "                             right=False,\n",
        "                             labels=etiquetas_clase)\n",
        "\n",
        "# Imprime la frecuencia absoluta de cada clase generada\n",
        "titanic['rango_edad'].value_counts()\n"
      ],
      "metadata": {
        "id": "9T-8TF5702LE"
      },
      "execution_count": null,
      "outputs": []
    },
    {
      "cell_type": "code",
      "source": [
        "# Comprobamos que se ha creado una columna categórica \n",
        "# descriptiva, calculada en función a la columna edad\n",
        "titanic[['nombre','edad','rango_edad']]\n"
      ],
      "metadata": {
        "id": "2hOmhvv1071m"
      },
      "execution_count": null,
      "outputs": []
    },
    {
      "cell_type": "markdown",
      "source": [
        "## **Generación de categóricos usando UDF's**"
      ],
      "metadata": {
        "id": "u5aEZveb1D15"
      }
    },
    {
      "cell_type": "code",
      "source": [
        "def RangoEdad(x):\n",
        "  categoria=None\n",
        "  if (x['edad']>=0.00 and x['edad']<12.00): categoria='INFANTES'\n",
        "  if (x['edad']>=12.00 and x['edad']<21.00): categoria='JOVENES'\n",
        "  if (x['edad']>=21.00 and x['edad']<35.00): categoria='ADULTOS'\n",
        "  if (x['edad']>=35.00 and x['edad']<45.00): categoria='MEDIANA EDAD'\n",
        "  if (x['edad']>=45.00): categoria='ADULTOS MAYORES'\n",
        "  return categoria\n",
        "\n",
        "titanic['rango_edad']=titanic.apply(RangoEdad,axis=1)\n",
        "\n",
        "titanic[['nombre','edad','rango_edad']]\n"
      ],
      "metadata": {
        "id": "7Me9fkCi1HPK"
      },
      "execution_count": null,
      "outputs": []
    }
  ]
}