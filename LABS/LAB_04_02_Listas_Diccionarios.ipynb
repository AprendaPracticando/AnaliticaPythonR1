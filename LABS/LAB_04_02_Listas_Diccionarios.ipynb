{
  "nbformat": 4,
  "nbformat_minor": 0,
  "metadata": {
    "colab": {
      "provenance": [],
      "authorship_tag": "ABX9TyM2+rVd4uaspkmSWGkN7yeT",
      "include_colab_link": true
    },
    "kernelspec": {
      "name": "python3",
      "display_name": "Python 3"
    },
    "language_info": {
      "name": "python"
    }
  },
  "cells": [
    {
      "cell_type": "markdown",
      "metadata": {
        "id": "view-in-github",
        "colab_type": "text"
      },
      "source": [
        "<a href=\"https://colab.research.google.com/github/AprendaPracticando/AnaliticaPythonR1/blob/main/LAB_04_02_Listas_Diccionarios.ipynb\" target=\"_parent\"><img src=\"https://colab.research.google.com/assets/colab-badge.svg\" alt=\"Open In Colab\"/></a>"
      ]
    },
    {
      "cell_type": "markdown",
      "source": [
        "# **LAB 04.02: Trabajar con listas, diccionarios y tuplas**"
      ],
      "metadata": {
        "id": "YNZrSXOPDMIK"
      }
    },
    {
      "cell_type": "markdown",
      "source": [
        "En este Lab se revisa la técnica para crear, recuperar elementos e iterar las colecciones más importantes de Python: listas, diccionarios y tuplas.\n",
        "Las tareas por realizar son:\n",
        "1.\tCodificar la creación, recuperación de valores e iteración de una lista.\n",
        "2.\tCodificar la creación, recuperación de valores e iteración de un diccionario.\n",
        "3.\tCodificar la creación, recuperación de valores e iteración de una tupla.\n"
      ],
      "metadata": {
        "id": "5RhN-DHbDTdM"
      }
    },
    {
      "cell_type": "markdown",
      "source": [
        "## Codificar la creación, recuperación de valores e iteración de una lista."
      ],
      "metadata": {
        "id": "dPyc48q-DYzR"
      }
    },
    {
      "cell_type": "code",
      "execution_count": null,
      "metadata": {
        "id": "-4ECDpIlCUDE"
      },
      "outputs": [],
      "source": [
        "# Crear una lista con 5 elementos.\n",
        "lista = [10, 20, 30, 40, 50]\n",
        "\n",
        "# Imprimir la lista creada.\n",
        "print(lista)\n",
        "\n",
        "# Imprimir el tipo de objeto y comprobar que es una lista.\n",
        "print(type(lista))\n",
        "\n",
        "# Recuperación de un elemento de la lista usando el índice \n",
        "# base cero.  Recuperar el elemento con el índice 2 \n",
        "# (tercer valor de la lista).\n",
        "print(lista[2])\n",
        "\n",
        "# Iterar una lista usando for e imprimiendo cada elemento \n",
        "# de la lista.\n",
        "for e in lista:\n",
        "  print(e)\n"
      ]
    },
    {
      "cell_type": "markdown",
      "source": [
        "## Codificar la creación, recuperación de valores e iteración de un diccionario."
      ],
      "metadata": {
        "id": "DWaHLALZDiOI"
      }
    },
    {
      "cell_type": "code",
      "source": [
        "# Crear un diccionario.\n",
        "diccionario={\n",
        "  1:'uno',\n",
        "  2:'dos',\n",
        "  3:'tres',\n",
        "  4:'cuatro',\n",
        "  5:'cinco'\n",
        "}\n",
        "\n",
        "# Imprimir un diccionario.\n",
        "print(diccionario)\n",
        "\n",
        "# Imprimir el tipo de objeto y ver que es un diccionario.\n",
        "print(type(diccionario))\n",
        "\n",
        "# Recuperación de un elemento del diccionario, usando la llave.\n",
        "print(diccionario[2])\n",
        "\n",
        "# print(diccionario[10]) # Provoca error: no existe la llave.\n",
        "\n",
        "# Recuperación de un elemento del diccionario, usando \n",
        "# la llave y get().\n",
        "print(diccionario.get(2,'No encontrado'))\n",
        "print(diccionario.get(10,'No encontrado'))\n",
        "\n",
        "# Iteración de las llaves de un diccionario.\n",
        "for k in diccionario.keys():\n",
        "  print(k)\n",
        "\n",
        "# Iteracion de los valores de un diccionario.\n",
        "for v in diccionario.values():\n",
        "  print(v)\n",
        "\n",
        "# Iteración de llaves y valores de un diccionario, en \n",
        "# forma de tupla.\n",
        "for t in diccionario.items():\n",
        "  print(t)\n",
        "\n",
        "for k,v in diccionario.items():\n",
        "  print(f'La llave {k} está asociada al valor {v}')\n"
      ],
      "metadata": {
        "id": "Ooh79Ek3DjnT"
      },
      "execution_count": null,
      "outputs": []
    },
    {
      "cell_type": "markdown",
      "source": [
        "## Codificar la creación, recuperación de valores e iteración de una tupla."
      ],
      "metadata": {
        "id": "mE4WZlsMDv0k"
      }
    },
    {
      "cell_type": "code",
      "source": [
        "# Crear una Tupla.\n",
        "tupla=('A','B','C')\n",
        "\n",
        "# Imprimir una tupla.\n",
        "print(tupla)\n",
        "\n",
        "# Imprimir el tipo de objeto y ver que es una tupla.\n",
        "print(type(tupla))\n",
        "\n",
        "# Recuperación de un elemento de la tupla usando el \n",
        "# índice base cero. Recuperar el elemento con el índice1 \n",
        "# (segundo valor de la tupla).\n",
        "print(tupla[1])\n",
        "\n",
        "# Iteración de los elementos de una tupla.\n",
        "for e in tupla:\n",
        "  print(e)\n"
      ],
      "metadata": {
        "id": "Q2YH6R2NDy9I"
      },
      "execution_count": null,
      "outputs": []
    },
    {
      "cell_type": "markdown",
      "source": [
        "## Creación de serie pandas a partir de una lista"
      ],
      "metadata": {
        "id": "6BUk5-JUD2Bi"
      }
    },
    {
      "cell_type": "code",
      "source": [
        "# Se importa la librería de pandas\n",
        "import pandas as pd"
      ],
      "metadata": {
        "id": "LXSQg5liEEFK"
      },
      "execution_count": null,
      "outputs": []
    },
    {
      "cell_type": "code",
      "source": [
        "# Se declara una lista.\n",
        "mi_lista = [10, 20, 30, 40, 50]\n",
        "\n",
        "# Creación de serie pandas a partir de la lista\n",
        "mi_serie = pd.Series(mi_lista)\n",
        "\n",
        "# Verificación de la creación de serie\n",
        "print(type(mi_serie))\n",
        "\n",
        "# Impresión de la serie\n",
        "print(mi_serie)"
      ],
      "metadata": {
        "id": "_arEBN_GD7GW"
      },
      "execution_count": null,
      "outputs": []
    },
    {
      "cell_type": "markdown",
      "source": [
        "## Creación de DataFrame pandas a partir de un diccionario"
      ],
      "metadata": {
        "id": "3t_7uUYdEhdA"
      }
    },
    {
      "cell_type": "code",
      "source": [
        "# Se declara un diccionario. Las llaves son\n",
        "# los nombres de columna. Los valores son listas,\n",
        "# correspondiente a los valores de cada columna.\n",
        "datos = {\n",
        "     'nombre': ['Juan', 'Maria', 'Luis', 'Christy'],\n",
        "     'edad': [25, 32, 18, 47],\n",
        "     'ciudad': ['Bogotá', 'CDMX', 'Buenos Aires', 'Houston']\n",
        "}\n",
        "\n",
        "# Creación de DataFrame\n",
        "df = pd.DataFrame(datos)\n",
        "\n",
        "# Verificación de la creación del objeto\n",
        "print(type(df))\n",
        "\n",
        "# Impresión del DataFrame\n",
        "print(df)"
      ],
      "metadata": {
        "id": "zqOphUgeEl15"
      },
      "execution_count": null,
      "outputs": []
    }
  ]
}
