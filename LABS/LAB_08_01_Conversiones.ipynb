{
  "nbformat": 4,
  "nbformat_minor": 0,
  "metadata": {
    "colab": {
      "provenance": [],
      "authorship_tag": "ABX9TyPuY3WybMQeLdP+yZ2Mwb4K",
      "include_colab_link": true
    },
    "kernelspec": {
      "name": "python3",
      "display_name": "Python 3"
    },
    "language_info": {
      "name": "python"
    }
  },
  "cells": [
    {
      "cell_type": "markdown",
      "metadata": {
        "id": "view-in-github",
        "colab_type": "text"
      },
      "source": [
        "<a href=\"https://colab.research.google.com/github/AprendaPracticando/AnaliticaPythonR1/blob/main/LABS/LAB_08_01_Conversiones.ipynb\" target=\"_parent\"><img src=\"https://colab.research.google.com/assets/colab-badge.svg\" alt=\"Open In Colab\"/></a>"
      ]
    },
    {
      "cell_type": "markdown",
      "source": [
        "# **LAB 08.01: Ejecutando conversiones de tipo y de moneda**"
      ],
      "metadata": {
        "id": "9pA0EyOFw-2J"
      }
    },
    {
      "cell_type": "markdown",
      "source": [
        "En este Lab se realizan conversiones de tipos para que las columnas se ajusten a los tipos especificados por los códigos DTXC del caso. También se realiza un demo de conversiones de moneda, tomando tipos de cambio desde un servicio de la nube.\n",
        "Las tareas por realizar son:\n",
        "1.\tRealizar conversiones de tipo de dato.\n",
        "1.\tRealizar conversiones de tipo de moneda.\n",
        "    1.\tinstalar forex_python\n",
        "    1.\tRealizar conversiones de moneda con tipos de cambio en línea.\n"
      ],
      "metadata": {
        "id": "_LweyMnQxDZ3"
      }
    },
    {
      "cell_type": "code",
      "source": [
        "# Datos base\n",
        "import pandas as pd\n",
        "personas_titanic_csv='https://raw.githubusercontent.com/AprendaPracticando/AnaliticaPythonR1/main/data/personas_titanic.csv'\n",
        "titanic = pd.read_csv(personas_titanic_csv)\n"
      ],
      "metadata": {
        "id": "sE-ABPPXxTq9"
      },
      "execution_count": null,
      "outputs": []
    },
    {
      "cell_type": "markdown",
      "source": [
        "## **Realizar conversiones de tipo de dato**"
      ],
      "metadata": {
        "id": "m0JvnhZlxd03"
      }
    },
    {
      "cell_type": "markdown",
      "source": [
        "Para que los campos correspondan a los tipos requeridos por los códigos DTXC, se requieren hacer las siguientes modificaciones.\n",
        "1.\tid_persona es un identificador, cualitativo nominal.\n",
        "    1. Pasar de float a object sin decimales.\n",
        "1.\tclave_sobrevivencia es un categórico codificado, cualitativo no-minal.\n",
        "    1. Pasar de float a object sin decimales.\n",
        "1.\tclase_viaje es un categórico codificado, y es cualitativo ordinal.\n",
        "    1. Pasar de float a object sin decimales.\n",
        "1.\tid_cuerpo es un identificador no requerido, cualitativo nominal.\n",
        "    1. Pasar de float a object sin decimales.\n"
      ],
      "metadata": {
        "id": "JQ57rxWhxiZq"
      }
    },
    {
      "cell_type": "code",
      "source": [
        "# Transformación de id_persona\n",
        "titanic['id_persona']=titanic['id_persona'].astype('str')\n",
        "titanic['id_persona']=titanic['id_persona'].str.split('.').str.get(0)\n",
        "\n",
        "# Transformación de clave_sobrevivencia\n",
        "titanic['clave_sobrevivencia']=titanic['clave_sobrevivencia'].astype('str')\n",
        "titanic['clave_sobrevivencia']=titanic['clave_sobrevivencia'].str.split('.').str.get(0)\n",
        "\n",
        "# Transformación de clase_viaje\n",
        "titanic['clase_viaje']=titanic['clase_viaje'].astype('str')\n",
        "titanic['clase_viaje']=titanic['clase_viaje'].str.split('.').str.get(0)\n",
        "\n",
        "# Transformación de id_cuerpo\n",
        "titanic['id_cuerpo']=titanic['id_cuerpo'].astype('str')\n",
        "titanic['id_cuerpo']=titanic['id_cuerpo'].str.split('.').str.get(0)\n",
        "\n",
        "# Ver los tipos transformados\n",
        "titanic.dtypes\n"
      ],
      "metadata": {
        "id": "7Dk8WEucx20O"
      },
      "execution_count": null,
      "outputs": []
    },
    {
      "cell_type": "markdown",
      "source": [
        "## **Realizar conversiones de moneda con tipos de cambio en línea**"
      ],
      "metadata": {
        "id": "xL2lWq3myKNP"
      }
    },
    {
      "cell_type": "markdown",
      "source": [
        "Se instala el paquete Forex_python."
      ],
      "metadata": {
        "id": "oF6_jr6SyOoK"
      }
    },
    {
      "cell_type": "code",
      "execution_count": null,
      "metadata": {
        "id": "QYtfaFkew91m"
      },
      "outputs": [],
      "source": [
        "%pip install forex_python\n"
      ]
    },
    {
      "cell_type": "code",
      "source": [
        "# Se importa la librería para recuperar tipos de cambio.\n",
        "from forex_python.converter import CurrencyRates\n"
      ],
      "metadata": {
        "id": "qJRo9-AbyZc7"
      },
      "execution_count": null,
      "outputs": []
    },
    {
      "cell_type": "code",
      "source": [
        "# Creamos el DataFrame de ejemplo.\n",
        "df = pd.DataFrame({'moneda_origen': ['USD','EUR','GBP','JPY'],\n",
        "                   'cantidad': [100, 200, 300, 400]})\n",
        "# Ver los datos.\n",
        "df"
      ],
      "metadata": {
        "id": "hQ1WmgP0ygZQ"
      },
      "execution_count": null,
      "outputs": []
    },
    {
      "cell_type": "code",
      "source": [
        "# Creamos una instancia de CurrencyRates para realizar \n",
        "# la conversión.\n",
        "c = CurrencyRates()\n",
        "\n",
        "# Definimos la moneda a la que queremos convertir las demás, \n",
        "# que en este caso es euros.\n",
        "moneda_destino = 'EUR'\n",
        "\n",
        "# Creamos una función que aplica la conversión a \n",
        "# cada fila.\n",
        "def convertir_moneda(fila):\n",
        "    tasa = c.get_rate(fila['moneda_origen'], moneda_destino)\n",
        "    return fila['cantidad'] * tasa\n",
        "\n",
        "# Aplicamos la función a cada fila y almacenamos los resultados \n",
        "# en una nueva columna\n",
        "df['equivalente_euros'] = df.apply(convertir_moneda, axis=1)\n",
        "\n",
        "# Imprimimos el DataFrame resultante\n",
        "print(df)\n"
      ],
      "metadata": {
        "id": "7-UO1UVNylo1"
      },
      "execution_count": null,
      "outputs": []
    }
  ]
}