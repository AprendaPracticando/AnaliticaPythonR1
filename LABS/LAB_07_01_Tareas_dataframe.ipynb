{
  "nbformat": 4,
  "nbformat_minor": 0,
  "metadata": {
    "colab": {
      "provenance": [],
      "authorship_tag": "ABX9TyN8pQEWqZpSR+eT3q4u7zln",
      "include_colab_link": true
    },
    "kernelspec": {
      "name": "python3",
      "display_name": "Python 3"
    },
    "language_info": {
      "name": "python"
    }
  },
  "cells": [
    {
      "cell_type": "markdown",
      "metadata": {
        "id": "view-in-github",
        "colab_type": "text"
      },
      "source": [
        "<a href=\"https://colab.research.google.com/github/AprendaPracticando/AnaliticaPythonR1/blob/main/LABS/LAB_07_01_Tareas_dataframe.ipynb\" target=\"_parent\"><img src=\"https://colab.research.google.com/assets/colab-badge.svg\" alt=\"Open In Colab\"/></a>"
      ]
    },
    {
      "cell_type": "markdown",
      "source": [
        "# **LAB 07.01: Tareas generales con DataFrames**"
      ],
      "metadata": {
        "id": "_AjjQQcZqMIx"
      }
    },
    {
      "cell_type": "markdown",
      "source": [
        "En este Lab se revisan estrategias para realizar tareas generales sobre filas y columnas en un DataFrame.\n",
        "Las tareas por realizar son:\n",
        "1.\tEliminar columnas no requeridas usando drop().\n",
        "2.\tEliminar filas duplicadas usando drop_duplicates().\n",
        "3.\tEliminar filas con datos vacíos usando dropna().\n",
        "    1.\tEliminar las filas con todas las columnas vacías.\n",
        "    1.\tEliminar las filas con 3 o más columnas vacías.\n",
        "4.\tCrear un indicador ficticio.\n",
        "5.\tVerificar unicidad de columnas usando duplicated().\n",
        "    1. Verificar la unicidad de un campo de identidad.\n",
        "    1. Verificar la unicidad de un campo categórico.\n",
        "    1. Verificar la unicidad de un campo con vacíos.\n"
      ],
      "metadata": {
        "id": "X9fpzip_qXwk"
      }
    },
    {
      "cell_type": "code",
      "source": [
        "# Datos base\n",
        "import pandas as pd\n",
        "pasajeros_titanic_csv='https://raw.githubusercontent.com/AprendaPracticando/AnaliticaPythonR1/main/data/pasajeros_titanic.csv'\n",
        "titanic = pd.read_csv(pasajeros_titanic_csv)\n"
      ],
      "metadata": {
        "id": "4ggwMwSTqo1_"
      },
      "execution_count": null,
      "outputs": []
    },
    {
      "cell_type": "markdown",
      "source": [
        "## **Eliminar columnas no requeridas usando drop()**"
      ],
      "metadata": {
        "id": "86d7mqb0qt5c"
      }
    },
    {
      "cell_type": "code",
      "source": [
        "# Se eliminan los campos que no son requeridos del \n",
        "# DataFrame titanic\n",
        "titanic.drop(columns=['boleto','tarifa',\n",
        "            'cabina','embarque','residencias'],\n",
        "            inplace=True)\n",
        "\n",
        "# Se verifica qué columnas quedaron.\n",
        "titanic.dtypes\n"
      ],
      "metadata": {
        "id": "Z332X7oEqxr2"
      },
      "execution_count": null,
      "outputs": []
    },
    {
      "cell_type": "markdown",
      "source": [
        "## **Eliminar filas duplicadas usando drop_duplicates()**"
      ],
      "metadata": {
        "id": "elbFFfcNrBew"
      }
    },
    {
      "cell_type": "code",
      "source": [
        "# Eliminar duplicados en titanic, donde todas las columnas\n",
        "# sean exactamente iguales en todos sus valores, guardando \n",
        "# el resultado en el mismo DataFrame\n",
        "titanic.drop_duplicates(inplace=True)\n"
      ],
      "metadata": {
        "id": "m57JknGvrFGj"
      },
      "execution_count": null,
      "outputs": []
    },
    {
      "cell_type": "markdown",
      "source": [
        "## **Eliminar filas con datos vacíos usando dropna()**"
      ],
      "metadata": {
        "id": "mhHouCGKrJLY"
      }
    },
    {
      "cell_type": "code",
      "source": [
        "# Se revisa cuántos datos hay.\n",
        "print(f'Se tienen {titanic.shape[0]:,} filas.')\n",
        "\n",
        "# Elimina todos los registros en donde todas las columnas \n",
        "# estén vacías.\n",
        "titanic.dropna(how='all', inplace=True)\n",
        "\n",
        "# Se revisa cuántos datos hay.\n",
        "print(f'Se tienen {titanic.shape[0]:,} filas.')\n",
        "\n",
        "# Se concluye que no había filas completamente vacías.\n"
      ],
      "metadata": {
        "id": "3Km7rgcarOAe"
      },
      "execution_count": null,
      "outputs": []
    },
    {
      "cell_type": "code",
      "source": [
        "# Elimina todos los registros con más de tres columnas vacías.\n",
        "titanic.dropna(thresh=titanic.shape[1]-3, inplace=True)\n",
        "\n",
        "# Se revisa si se eliminaron filas.\n",
        "print(f'Se tienen {titanic.shape[0]:,} filas.')\n",
        "\n",
        "# Se concluye que se eliminaron 2 filas.\n"
      ],
      "metadata": {
        "id": "ILcvToiirTs2"
      },
      "execution_count": null,
      "outputs": []
    },
    {
      "cell_type": "markdown",
      "source": [
        "## **Crear un indicador ficticio**"
      ],
      "metadata": {
        "id": "I3QPj4ZJrYq1"
      }
    },
    {
      "cell_type": "code",
      "execution_count": null,
      "metadata": {
        "id": "h3NH7_Adpfrt"
      },
      "outputs": [],
      "source": [
        "# Generar una llave primaria (columna de identidad) para \n",
        "# los datos del titanic.\n",
        "# Se desea que el primer identificador sea 10000\n",
        "\n",
        "inicial=10000\n",
        "titanic['identificador']=pd.Series(range(inicial,len(titanic)+inicial))\n",
        "\n",
        "# Ver los primeros registros, para verificar la creación \n",
        "# del identificador.\n",
        "\n",
        "titanic.head()\n",
        "\n",
        "# Se debió haber agregado una columna nueva, llamada \n",
        "# identificador, que es una serie numérica que inicia en 10000. \n",
        "# Toma en cuenta que se ha generado como flotante, cosa que \n",
        "# se tendrá que corregir más adelante.\n"
      ]
    },
    {
      "cell_type": "markdown",
      "source": [
        "## **Verificar unicidad de columnas usando duplicated()**"
      ],
      "metadata": {
        "id": "KfJKGc6hrql4"
      }
    },
    {
      "cell_type": "code",
      "source": [
        "# Se valida si en identificador hay algún valor duplicado. \n",
        "# El valor se asigna a la variable hay duplicados.\n",
        "hay_duplicados = titanic['identificador'].duplicated().any()\n",
        "\n",
        "# Se imprime el resultado. Debe ser False.\n",
        "print(hay_duplicados)\n"
      ],
      "metadata": {
        "id": "7s_3CpNKrt4k"
      },
      "execution_count": null,
      "outputs": []
    },
    {
      "cell_type": "code",
      "source": [
        "# Se valida si en clase_viaje hay algún valor duplicado. \n",
        "# El valor se asigna a la variable hay_duplicados.\n",
        "hay_duplicados = titanic['clase_viaje'].duplicated().any()\n",
        "\n",
        "# Se imprime el resultado. Debe ser True.\n",
        "print(hay_duplicados)\n"
      ],
      "metadata": {
        "id": "nZrNY2Wvr1A-"
      },
      "execution_count": null,
      "outputs": []
    },
    {
      "cell_type": "markdown",
      "source": [
        "> Si queremos validar que una columna no tenga valores repetidos, sin to-mar en cuenta los datos vacíos o nulos, primero se deben eliminar los da-tos vacíos o nulos, y luego verificar la unicidad.\n",
        ">\n",
        "> En nuestro caso, el campo cuerpo, que indica el número de cuerpo asigna-do a las personas fallecidas, no debe tener repetidos, pero hay muchas filas en donde ese dato no se tiene.\n"
      ],
      "metadata": {
        "id": "oCvav_dEr9QS"
      }
    },
    {
      "cell_type": "code",
      "source": [
        "# Se genera una Serie de pandas que contenga únicamente\n",
        "# los valores de la columna cuerpo, cuando cuerpo no sea\n",
        "# nulo.\n",
        "valores_cuepo = titanic['cuerpo'][titanic['cuerpo'].notnull()]\n",
        "\n",
        "# Se valida si en valores_cuerpo hay algún valor duplicado. \n",
        "# El valor se asigna a la variable hay_duplicados.\n",
        "hay_duplicados = valores_cuepo.duplicated().any()\n",
        "\n",
        "# Se imprime el resultado. Debe ser False.\n",
        "print(hay_duplicados) \n"
      ],
      "metadata": {
        "id": "qe94x-dBsExP"
      },
      "execution_count": null,
      "outputs": []
    }
  ]
}