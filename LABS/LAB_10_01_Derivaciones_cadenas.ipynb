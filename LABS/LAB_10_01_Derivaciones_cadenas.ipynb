{
  "nbformat": 4,
  "nbformat_minor": 0,
  "metadata": {
    "colab": {
      "provenance": [],
      "authorship_tag": "ABX9TyOxE2dA0+zcLyI2J3JgYZTx",
      "include_colab_link": true
    },
    "kernelspec": {
      "name": "python3",
      "display_name": "Python 3"
    },
    "language_info": {
      "name": "python"
    }
  },
  "cells": [
    {
      "cell_type": "markdown",
      "metadata": {
        "id": "view-in-github",
        "colab_type": "text"
      },
      "source": [
        "<a href=\"https://colab.research.google.com/github/AprendaPracticando/AnaliticaPythonR1/blob/main/LABS/LAB_10_01_Derivaciones_cadenas.ipynb\" target=\"_parent\"><img src=\"https://colab.research.google.com/assets/colab-badge.svg\" alt=\"Open In Colab\"/></a>"
      ]
    },
    {
      "cell_type": "markdown",
      "source": [
        "# **LAB 10.01: Derivaciones a partir de cadenas**"
      ],
      "metadata": {
        "id": "5cMmQBNq1tCs"
      }
    },
    {
      "cell_type": "markdown",
      "source": [
        "En este Lab se desea generar nuevas columnas, o transformar las existen-tes, aplicando técnicas de cálculo de valores a partir de los datos existentes en el DataFrame.\n",
        "Las tareas por realizar son:\n",
        "1.\tEliminar las advertencias de Python.\n",
        "2.\tModificar el casing de las columnas, usando lower(), upper(), y title().\n",
        "3.\tDerivar columnas por separación, usando split().\n",
        "    1. Alternativa usando split().\n",
        "    1. Alternativa usando split() con extend.\n",
        "    1. Alternativa usando loc[].\n",
        "4.\tExtraer el título de la persona.\n",
        "5.\tEliminar los espacios en los extremos, usando strip().\n",
        "6.\tDerivar columnas por concatenación.\n",
        "7.\tDerivar columnas por extracción.\n"
      ],
      "metadata": {
        "id": "zmJC5KxO1wEJ"
      }
    },
    {
      "cell_type": "code",
      "execution_count": null,
      "metadata": {
        "id": "egcXrWMz1rS2"
      },
      "outputs": [],
      "source": [
        "# Datos base\n",
        "import pandas as pd\n",
        "personas_titanic_csv='https://raw.githubusercontent.com/AprendaPracticando/AnaliticaPythonR1/main/data/personas_titanic_v3.csv'\n",
        "titanic = pd.read_csv(personas_titanic_csv)\n"
      ]
    },
    {
      "cell_type": "markdown",
      "source": [
        "## **Eliminar las advertencias de Python**"
      ],
      "metadata": {
        "id": "CiQce4Mj2N3_"
      }
    },
    {
      "cell_type": "code",
      "source": [
        "# Se inhabilitan temporalmente las advertencias de Python. \n",
        "# Se establece un filtro de advertencias, para que las ignore.\n",
        "import warnings\n",
        "warnings.filterwarnings(\"ignore\")\n"
      ],
      "metadata": {
        "id": "mdIsTx8D2RPD"
      },
      "execution_count": null,
      "outputs": []
    },
    {
      "cell_type": "markdown",
      "source": [
        "## **Modificar el casing de las columnas, usando lower(), upper(), y title()**"
      ],
      "metadata": {
        "id": "JWjVWysx2UV7"
      }
    },
    {
      "cell_type": "markdown",
      "source": [
        "Modifica el casing de las siguientes columnas:\n",
        "1.\tsexo: Pasarlo todo a mayúsculas.\n",
        "2.\tnombre: Pasarlo a primera letra de cada palabra en mayúscula y el resto a minúscula (ya está así, pero no en todos los casos).\n"
      ],
      "metadata": {
        "id": "UHUFVgwI2Yar"
      }
    },
    {
      "cell_type": "code",
      "source": [
        "# Se revisa el estado actual de los datos, en cuanto a casing.\n",
        "titanic[['sexo','nombre']]\n"
      ],
      "metadata": {
        "id": "pp9G5ihM2cd9"
      },
      "execution_count": null,
      "outputs": []
    },
    {
      "cell_type": "code",
      "source": [
        "# Se pasa sexo a mayúsculas.\n",
        "titanic['sexo']=titanic['sexo'].str.upper()\n"
      ],
      "metadata": {
        "id": "hORCUgF62gYS"
      },
      "execution_count": null,
      "outputs": []
    },
    {
      "cell_type": "code",
      "source": [
        "# Se pasa nombre a mayúscula la primera letra de cada palabra.\n",
        "titanic['nombre']=titanic['nombre'].str.title()\n"
      ],
      "metadata": {
        "id": "yfUs_O1g2lxK"
      },
      "execution_count": null,
      "outputs": []
    },
    {
      "cell_type": "code",
      "source": [
        "# Se revisa el estado actual de los datos, en cuanto a casing.\n",
        "titanic[['sexo','nombre']]\n"
      ],
      "metadata": {
        "id": "9cvO8aWY2pMC"
      },
      "execution_count": null,
      "outputs": []
    },
    {
      "cell_type": "markdown",
      "source": [
        "## **Derivar columnas por separación, usando split()**"
      ],
      "metadata": {
        "id": "nshS25qH2szj"
      }
    },
    {
      "cell_type": "markdown",
      "source": [
        "Realiza las siguientes tareas:\n",
        "1.\tGenera un DataFrame de trabajo llamado cadenas, que contenga solo los campos id_persona, nombre, y sexo del DataFrame titanic.\n",
        "2.\tA partir de nombre, usando como separador la coma, genera dos columnas: apellidos, con la primera parte de la cadena, y primer_nombre, con la segunda parte de la cadena. Utiliza varias estrategias.\n",
        "3.\tA partir de primer_nombre, extrae el título de la persona. Utiliza la estrategia que quieras.\n"
      ],
      "metadata": {
        "id": "cKcR6mv42wkh"
      }
    },
    {
      "cell_type": "code",
      "source": [
        "# Se genera un nuevo DataFrame de trabajo llamado cadenas\n",
        "cadenas=titanic[['id_persona','nombre','sexo']]\n",
        "\n",
        "cadenas\n"
      ],
      "metadata": {
        "id": "EU3J4M1L2zdF"
      },
      "execution_count": null,
      "outputs": []
    },
    {
      "cell_type": "code",
      "source": [
        "# Alternativa usando split()\n",
        "\n",
        "# Se derivan nuevas columnas por separación, usando split, \n",
        "# extrayendo elemento por elemento.\n",
        "# La primera parte de la cadena (índice 0) formará la\n",
        "# columna apellidos.\n",
        "# La segunda parte de la cadena (índice 1) formará la\n",
        "# columna primer_nombre.\n",
        "cadenas['apellidos']=cadenas['nombre'].str.split(',').str.get(0)\n",
        "cadenas['primer_nombre']=cadenas['nombre'].str.split(',').str.get(1)\n",
        "\n",
        "# Se muestra el resultado\n",
        "cadenas\n"
      ],
      "metadata": {
        "id": "pMXJ8Rus22ug"
      },
      "execution_count": null,
      "outputs": []
    },
    {
      "cell_type": "code",
      "source": [
        "# Alternativa usando split(), con expand\n",
        "\n",
        "# Otra alternativa, en una sola línea, usando expand=True.\n",
        "# Se coloca una lista de columnas a crear, mismas que se\n",
        "# poblarán con las correspondientes porciones de la cadena, \n",
        "# en el orden en que aparecen.\n",
        "cadenas[['apellidos','primer_nombre']]=cadenas['nombre'].str.split(',', expand=True)\n",
        "\n",
        "# Se muestra el resultado\n",
        "cadenas\n"
      ],
      "metadata": {
        "id": "nUzp95NM3D2n"
      },
      "execution_count": null,
      "outputs": []
    },
    {
      "cell_type": "code",
      "source": [
        "# Alternativa usando loc[]\n",
        "\n",
        "# Otra alternativa, usando loc[]\n",
        "cadenas.loc[:,'apellidos']=cadenas['nombre'].str.split(',').str.get(0)\n",
        "cadenas.loc[:,'primer_nombre']=cadenas['nombre'].str.split(',').str.get(1)\n",
        "\n",
        "# Se muestra el resultado\n",
        "cadenas\n"
      ],
      "metadata": {
        "id": "_gFiSaWU3PQt"
      },
      "execution_count": null,
      "outputs": []
    },
    {
      "cell_type": "markdown",
      "source": [
        "## **Extraer el título de la persona**"
      ],
      "metadata": {
        "id": "z0VOHSc23Yeb"
      }
    },
    {
      "cell_type": "code",
      "source": [
        "# Para obtener el título de la persona (Miss, Mr, Mrs, \n",
        "# Dr, etc), y colocarlo en una columna llamada titulo.\n",
        "# Se divide a partir del punto, y se extrae la primera porción.\n",
        "cadenas['titulo']=cadenas['primer_nombre'].str.split('.').str.get(0)\n",
        "\n",
        "# Se muestra el resultado\n",
        "cadenas\n"
      ],
      "metadata": {
        "id": "feOyg0-73b2v"
      },
      "execution_count": null,
      "outputs": []
    },
    {
      "cell_type": "markdown",
      "source": [
        "## **Eliminar los espacios en los extremos, usando strip()**"
      ],
      "metadata": {
        "id": "4ZnOhX-y3hhA"
      }
    },
    {
      "cell_type": "markdown",
      "source": [
        "Realiza las siguientes tareas:\n",
        "1.\tElimina espacios en los extremos de las columnas apellidos y primer_nombre.\n",
        "2.\tUtiliza el DataFrame cadenas y la función strip().\n"
      ],
      "metadata": {
        "id": "hGGYW5pe3lAv"
      }
    },
    {
      "cell_type": "code",
      "source": [
        "# Se eliminan los espacios en los extremos de las \n",
        "# columnas indicadas.\n",
        "cadenas['apellidos']=cadenas['apellidos'].str.strip()\n",
        "cadenas['primer_nombre']=cadenas['primer_nombre'].str.strip()\n",
        "\n",
        "# Se muestra el resultado.\n",
        "cadenas\n"
      ],
      "metadata": {
        "id": "D6vcGsg43pcT"
      },
      "execution_count": null,
      "outputs": []
    },
    {
      "cell_type": "markdown",
      "source": [
        "## **Derivar columnas por concatenación**"
      ],
      "metadata": {
        "id": "vHI_BCoD3tk7"
      }
    },
    {
      "cell_type": "markdown",
      "source": [
        "Realiza las siguientes tareas:\n",
        "1.\tConcatena los campos primer_nombre y apellidos, en una nueva columna llamada nombre_completo.\n",
        "2.\tTen cuidado de agregar un espacio intermedio entre ambas columnas, para que el contenido no quede junto.\n",
        "3.\tUtiliza el DataFrame cadenas.\n"
      ],
      "metadata": {
        "id": "KbGGBSdm3xF7"
      }
    },
    {
      "cell_type": "code",
      "source": [
        "# Se concatenan las columnas deseadas (pueden generarse \n",
        "# advertencias).\n",
        "cadenas['nombre_completo']=cadenas['primer_nombre']+' '+cadenas['apellidos']\n",
        "\n",
        "# Se muestra el resultado.\n",
        "cadenas\n"
      ],
      "metadata": {
        "id": "JM0lFr2X30yv"
      },
      "execution_count": null,
      "outputs": []
    },
    {
      "cell_type": "markdown",
      "source": [
        "## **Derivar columnas por extracción**"
      ],
      "metadata": {
        "id": "ii17QN0n355Y"
      }
    },
    {
      "cell_type": "markdown",
      "source": [
        "Realiza las siguientes tareas:\n",
        "1.\tGenera una nueva columna llamada clave_sexo, que contenga la primera letra de la columna sexo.\n",
        "2.\tTrabaja con el DataFrame cadenas.\n",
        "3.\tUtiliza slices para hacer la extracción de la subcadena requerida.\n"
      ],
      "metadata": {
        "id": "e6nxJmkR3-dv"
      }
    },
    {
      "cell_type": "code",
      "source": [
        "# Se extrae el primer símbolo de la cadena, usando slicers\n",
        "# y se genera una nueva columna (puede hacer advertencias).\n",
        "cadenas['clave_sexo']=cadenas['sexo'].str[0]\n",
        "\n",
        "# Se ven los resultados\n",
        "cadenas\n"
      ],
      "metadata": {
        "id": "CeiKlU7x4Bcp"
      },
      "execution_count": null,
      "outputs": []
    },
    {
      "cell_type": "markdown",
      "source": [
        "## **Habilita las advertencias de Python**"
      ],
      "metadata": {
        "id": "iRNgTmMt4GGn"
      }
    },
    {
      "cell_type": "code",
      "source": [
        "# Se habilitan de nuevo las advertencias de Python\n",
        "warnings.resetwarnings()\n"
      ],
      "metadata": {
        "id": "X420BFj74JXP"
      },
      "execution_count": null,
      "outputs": []
    }
  ]
}