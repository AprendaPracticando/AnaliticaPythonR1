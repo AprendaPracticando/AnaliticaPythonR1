{
  "nbformat": 4,
  "nbformat_minor": 0,
  "metadata": {
    "colab": {
      "provenance": [],
      "authorship_tag": "ABX9TyPQDXkJKmAHX50alikYHOrc",
      "include_colab_link": true
    },
    "kernelspec": {
      "name": "python3",
      "display_name": "Python 3"
    },
    "language_info": {
      "name": "python"
    }
  },
  "cells": [
    {
      "cell_type": "markdown",
      "metadata": {
        "id": "view-in-github",
        "colab_type": "text"
      },
      "source": [
        "<a href=\"https://colab.research.google.com/github/AprendaPracticando/AnaliticaPythonR1/blob/main/LABS/AB_11_01_Categoricos.ipynb\" target=\"_parent\"><img src=\"https://colab.research.google.com/assets/colab-badge.svg\" alt=\"Open In Colab\"/></a>"
      ]
    },
    {
      "cell_type": "markdown",
      "source": [
        "# **LAB 11.01: Generación de categóricos descriptivos equivalentes**"
      ],
      "metadata": {
        "id": "Undv5pWbrpnz"
      }
    },
    {
      "cell_type": "markdown",
      "source": [
        "En este Lab se desea generar nuevas columnas, o transformar las existen-tes, aplicando técnicas de cálculo de valores a partir de los datos existentes en el DataFrame.\n",
        "Las tareas por realizar son:\n",
        "1.\tGeneración de categóricos usando map().\n",
        "2.\tGeneración de categóricos a partir de otros archivos, usando merge().\n",
        "3.\tGeneración de categóricos usando UDF's.\n"
      ],
      "metadata": {
        "id": "JbGPq7IXrvRl"
      }
    },
    {
      "cell_type": "code",
      "execution_count": null,
      "metadata": {
        "id": "uOPduW3TrpDI"
      },
      "outputs": [],
      "source": [
        "# Datos base\n",
        "import pandas as pd\n",
        "\n",
        "tipos_correctos={\n",
        "    'id_persona':object,\n",
        "    'clave_sobrevivencia':object,\n",
        "    'clase_viaje':object\n",
        "}\n",
        "personas_titanic_csv='https://raw.githubusercontent.com/AprendaPracticando/AnaliticaPythonR1/main/data/personas_titanic_v3.csv'\n",
        "titanic = pd.read_csv(personas_titanic_csv,dtype=tipos_correctos)\n",
        "\n"
      ]
    },
    {
      "cell_type": "code",
      "source": [
        "# Al momento de la lectura especificamos que los valores \n",
        "# que son categóricos, los interprete como object, y no como \n",
        "# enteros o flotantes.\n",
        "# Es importante hacer notar que si pandas detecta datos \n",
        "# que no sabe cómo convertir, por ejemplo NaN, proporcionará \n",
        "# un tipo de datos más amplio, y por eso pone columnas \n",
        "# que son enteras (como clave_sobrevivencia) como flotante, \n",
        "# y al convertir a object será '0.0'.\n",
        "\n",
        "# Para eliminar los '.0' de sobra, se aplica lo siguiente.\n",
        "\n",
        "titanic['id_persona']=titanic['id_persona'].str.split('.').str.get(0)\n",
        "titanic['clave_sobrevivencia']=titanic['clave_sobrevivencia'].str.split('.').str.get(0)\n",
        "titanic['clase_viaje']=titanic['clase_viaje'].str.split('.').str.get(0)\n"
      ],
      "metadata": {
        "id": "jAFVHf_0sLN4"
      },
      "execution_count": null,
      "outputs": []
    },
    {
      "cell_type": "markdown",
      "source": [
        "## **Generación de categóricos usando map()**"
      ],
      "metadata": {
        "id": "jnDDeI3Zsoz0"
      }
    },
    {
      "cell_type": "markdown",
      "source": [
        "Realiza las siguientes tareas para generar un categórico descriptivo lla-mado sobrevivencia.\n",
        "1.\tToma como base el campo clave_sobrevivencia.\n",
        "2.\tSi clave_sobrevivencia es '0', es 'MURIÓ'; si es '1', es 'VIVIÓ'.\n",
        "3.\tUsa map().\n"
      ],
      "metadata": {
        "id": "ESOccesWsqtf"
      }
    },
    {
      "cell_type": "code",
      "source": [
        "# Se definen las equivalencias para sobrevivencia\n",
        "# usando un diccionario, donde la llave es el valor\n",
        "# de referencia, y el valor es el categórico descriptivo.\n",
        "\n",
        "catalogo_sobrevivencia={\n",
        "    '0':'MURIÓ',\n",
        "    '1':'VIVIÓ'\n",
        "}\n",
        "\n",
        "# Se genera una nueva columna, con las equivalencias \n",
        "# categóricas, usando map sobre el campo a considerar \n",
        "# como base para el cálculo proporcionando como parámetro \n",
        "# el diccionario que contiene las equivalencias.\n",
        "titanic['sobrevivencia']=titanic['clave_sobrevivencia'].map(catalogo_sobrevivencia)\n",
        "\n",
        "# Se muestra el resultado.\n",
        "titanic[['nombre','clave_sobrevivencia','sobrevivencia']]\n"
      ],
      "metadata": {
        "id": "OogblnjFsx9l"
      },
      "execution_count": null,
      "outputs": []
    },
    {
      "cell_type": "markdown",
      "source": [
        "## **Generación de categóricos a partir de otros archivos, usando merge()**"
      ],
      "metadata": {
        "id": "z9mosNWLtE0j"
      }
    },
    {
      "cell_type": "markdown",
      "source": [
        "Realiza las siguientes tareas para generar un categórico descriptivo a par-tir de los datos de un archivo que contiene un catálogo de clases.\n",
        "1.\tCarga en un DataFrame llamado catalogo_clases el contenido del archivo clases.csv.\n",
        "2.\tUsa merge() para agregar los datos de catalogo_clases al Data-Frame titanic.\n",
        "3.\tToma como campo de coincidencia clase_viaje.\n"
      ],
      "metadata": {
        "id": "Wcx79xDJtJIC"
      }
    },
    {
      "cell_type": "code",
      "source": [
        "# Se importan las clases del catálogo, desde GitHub.\n",
        "\n",
        "catalogo_clases = pd.read_csv('https://raw.githubusercontent.com/AprendaPracticando/AnaliticaPythonR1/main/data/clases.csv')\n",
        "\n",
        "catalogo_clases\n"
      ],
      "metadata": {
        "id": "2MDTFBehtMT_"
      },
      "execution_count": null,
      "outputs": []
    },
    {
      "cell_type": "code",
      "source": [
        "# Revisamos los tipos de los atributos de coincidencia.\n",
        "# Vemos que no coinciden.\n",
        "print(titanic.dtypes['clase_viaje'])\n",
        "print(catalogo_clases.dtypes['clase_viaje'])\n"
      ],
      "metadata": {
        "id": "EIXw7ZZrtSL6"
      },
      "execution_count": null,
      "outputs": []
    },
    {
      "cell_type": "code",
      "source": [
        "# Cambiamos el tipo de dato del DataFrame de catálogo, \n",
        "# para homologar tipos.\n",
        "catalogo_clases['clase_viaje']=catalogo_clases['clase_viaje'].astype('str')\n",
        "\n",
        "# Revisamos los tipos de los atributos de coincidencia.\n",
        "# Vemos que coinciden.\n",
        "print(titanic.dtypes['clase_viaje'])\n",
        "print(catalogo_clases.dtypes['clase_viaje'])"
      ],
      "metadata": {
        "id": "mmG2-xwMtXZP"
      },
      "execution_count": null,
      "outputs": []
    },
    {
      "cell_type": "code",
      "source": [
        "# Se hace el merge, de tipo outer join, para que no elimine \n",
        "# registros en caso de que clase sea un dato ausente.\n",
        "titanic=titanic.merge(catalogo_clases,\n",
        "    on='clase_viaje',\n",
        "    how='outer')\n",
        "\n",
        "# Se muestran los resultados\n",
        "titanic[['nombre','clase_viaje','clase']]\n"
      ],
      "metadata": {
        "id": "cciMxd7qthGr"
      },
      "execution_count": null,
      "outputs": []
    },
    {
      "cell_type": "markdown",
      "source": [
        "## **Generación de categóricos usando UDF's**"
      ],
      "metadata": {
        "id": "LPMNt0F_tuXb"
      }
    },
    {
      "cell_type": "markdown",
      "source": [
        "Realiza las siguientes tareas, para generar un categórico descriptivo llamado acompañada.\n",
        "1.\tToma como base el campo acompañantes.\n",
        "2.\tSi acompañantes es mayor a cero, debe ser 'ACOMPAÑADA', y si es cero, debe ser 'SOLA'.\n",
        "3.\tUsa funciones definidas por el usuario.\n"
      ],
      "metadata": {
        "id": "30Cjp08ftyiw"
      }
    },
    {
      "cell_type": "code",
      "source": [
        "# Se define la función que evalúa la cantidad de acompañantes\n",
        "# y retorna el categórico descriptivo correspondiente.\n",
        "def acompañamiento(x):\n",
        "  etiqueta='NO DEFINIDO'\n",
        "  if (x['acompañantes']==0):\n",
        "    etiqueta='SOLA'\n",
        "  if (x['acompañantes']>0):\n",
        "    etiqueta='ACOMPAÑADA'\n",
        "  return etiqueta\n"
      ],
      "metadata": {
        "id": "l3kdNxF7t6ex"
      },
      "execution_count": null,
      "outputs": []
    },
    {
      "cell_type": "code",
      "source": [
        "# Se aplica la función a cada filas.\n",
        "titanic['acompañada']=titanic.apply(acompañamiento, axis=1)\n",
        "\n",
        "# Se ven los resultados.\n",
        "titanic[['nombre','acompañantes','acompañada']]\n"
      ],
      "metadata": {
        "id": "EiO-hSyHt-rC"
      },
      "execution_count": null,
      "outputs": []
    }
  ]
}