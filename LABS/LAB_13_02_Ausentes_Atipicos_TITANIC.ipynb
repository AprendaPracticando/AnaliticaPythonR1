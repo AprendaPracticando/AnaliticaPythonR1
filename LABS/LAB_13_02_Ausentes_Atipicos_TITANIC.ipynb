{
  "nbformat": 4,
  "nbformat_minor": 0,
  "metadata": {
    "colab": {
      "provenance": [],
      "authorship_tag": "ABX9TyNEw71RYKA4zLnRcHUJWDKL",
      "include_colab_link": true
    },
    "kernelspec": {
      "name": "python3",
      "display_name": "Python 3"
    },
    "language_info": {
      "name": "python"
    }
  },
  "cells": [
    {
      "cell_type": "markdown",
      "metadata": {
        "id": "view-in-github",
        "colab_type": "text"
      },
      "source": [
        "<a href=\"https://colab.research.google.com/github/AprendaPracticando/AnaliticaPythonR1/blob/main/LABS/LAB_13_02_Ausentes_Atipicos_TITANIC.ipynb\" target=\"_parent\"><img src=\"https://colab.research.google.com/assets/colab-badge.svg\" alt=\"Open In Colab\"/></a>"
      ]
    },
    {
      "cell_type": "markdown",
      "source": [
        "# **LAB 13.02: Tratamiento de datos atípicos y ausentes para el Titanic**"
      ],
      "metadata": {
        "id": "srXA9Qpqbe3_"
      }
    },
    {
      "cell_type": "markdown",
      "source": [
        "En este Lab se desea eliminar las filas con atípicos respecto a la edad de las personas que viajaban en el Titanic.\n",
        "Las tareas por realizar son:\n",
        "1.\tDeterminar el mínimo no atípico y máximo no atípico de la colum-na edad.\n",
        "2.\tTratar los datos ausentes por eliminación.\n",
        "3.\tTratar los datos atípicos por eliminación.\n",
        "4.\tEliminar los campos no requeridos.\n",
        "5.\tGuardado de archivo final en formato Excel y CSV.\n"
      ],
      "metadata": {
        "id": "E3ssKQOdbqkv"
      }
    },
    {
      "cell_type": "code",
      "source": [
        "# Datos base\n",
        "import pandas as pd\n",
        "\n",
        "tipos_correctos={\n",
        "    'id_persona':object,\n",
        "    'clave_sobrevivencia':object,\n",
        "    'clase_viaje':object\n",
        "}\n",
        "\n",
        "personas_titanic_csv='https://raw.githubusercontent.com/AprendaPracticando/AnaliticaPythonR1/main/data/personas_titanic_v5.csv'\n",
        "\n",
        "titanic = pd.read_csv(personas_titanic_csv, dtype=tipos_correctos)\n",
        "\n",
        "titanic['id_persona']=titanic['id_persona'].str.split('.').str.get(0)\n",
        "titanic['clave_sobrevivencia']=titanic['clave_sobrevivencia'].str.split('.').str.get(0)\n",
        "titanic['clase_viaje']=titanic['clase_viaje'].str.split('.').str.get(0)\n",
        "\n",
        "print('Número de filas del conjunto de datos: ', len(titanic))"
      ],
      "metadata": {
        "id": "c75gOx9Ae2H6"
      },
      "execution_count": null,
      "outputs": []
    },
    {
      "cell_type": "markdown",
      "source": [
        "## **Tratar los datos ausentes por eliminación**"
      ],
      "metadata": {
        "id": "Prjq-S3Us6ta"
      }
    },
    {
      "cell_type": "code",
      "source": [
        "# Por comodidad, se enumeran en una lista los campos \n",
        "# requeridos, que son a fin de cuentas los que pueden \n",
        "# considerarse con datos ausentes.\n",
        "requeridos=['sobrevivencia','clase_viaje','sexo','rango_edad','acompañada']\n",
        "\n",
        "# Se eliminan aqullas filas donde alguno de los campos \n",
        "# requeridos tenga datos ausentes.\n",
        "print('Filas antes de eliminación de ausentes:',len(titanic))\n",
        "\n",
        "titanic.dropna(subset=requeridos, inplace=True)\n",
        "\n",
        "print('Filas después de eliminación de ausentes:',len(titanic))\n",
        "\n"
      ],
      "metadata": {
        "id": "5xAlkK3Ce_Ue"
      },
      "execution_count": null,
      "outputs": []
    },
    {
      "cell_type": "code",
      "execution_count": null,
      "metadata": {
        "id": "eNLXQpUKbeUx"
      },
      "outputs": [],
      "source": [
        "# Se verifica que se tienen 1040 filas con todos los datos\n",
        "# requeridos disponibles.\n",
        "titanic.info()\n"
      ]
    },
    {
      "cell_type": "markdown",
      "source": [
        "## **Tratar los datos atípicos por eliminación**"
      ],
      "metadata": {
        "id": "bx56SU92tRC5"
      }
    },
    {
      "cell_type": "code",
      "source": [
        "# Se calcula el mínimo no atípico (Li) y máximo no atípico (Ls)\n",
        "# del campo edad.\n",
        "Q1_edad=titanic['edad'].quantile(0.25)\n",
        "Q3_edad=titanic['edad'].quantile(0.75)\n",
        "RIC_edad=(Q3_edad-Q1_edad)\n",
        "Li_edad=Q1_edad-(1.5*RIC_edad)\n",
        "Ls_edad=Q3_edad+(1.5*RIC_edad)\n",
        "\n",
        "print('El mínimo no atípico de la edad es: ', Li_edad)\n",
        "print('El máximo no atípico de la edad es: ', Ls_edad)\n"
      ],
      "metadata": {
        "id": "JVdIGGJ_tUlO"
      },
      "execution_count": null,
      "outputs": []
    },
    {
      "cell_type": "code",
      "source": [
        "# Eliminación de filas con atípicos.\n",
        "print('Filas antes de quitar atípicos:', len(titanic))\n",
        "\n",
        "titanic=titanic[(titanic['edad']>=Li_edad) & \n",
        "      (titanic['edad']<=Ls_edad)]\n",
        "\n",
        "print('Filas antes de quitar atípicos:', len(titanic))\n"
      ],
      "metadata": {
        "id": "P5z91h0YtYEM"
      },
      "execution_count": null,
      "outputs": []
    },
    {
      "cell_type": "markdown",
      "source": [
        "## **Eliminar campos no requeridos**"
      ],
      "metadata": {
        "id": "sTGAQq1stbD3"
      }
    },
    {
      "cell_type": "code",
      "source": [
        "# Se actualiza titanic, dejándolo solo con los campos\n",
        "# requeridos.\n",
        "titanic=titanic[requeridos]\n",
        "\n",
        "# Se verifica el resultado, mostrando los campos que\n",
        "# permanecen.\n",
        "titanic.info()\n"
      ],
      "metadata": {
        "id": "NzruEM21teBc"
      },
      "execution_count": null,
      "outputs": []
    },
    {
      "cell_type": "code",
      "source": [
        "# Se muestran los datos que nos permiten hacer trabajos\n",
        "# de analítica, de acuerdo con el objetivo de análisis \n",
        "# establecido.\n",
        "titanic\n"
      ],
      "metadata": {
        "id": "ogaa52vNtiXg"
      },
      "execution_count": null,
      "outputs": []
    },
    {
      "cell_type": "markdown",
      "source": [
        "## **Guardado de archivo final, en formato CSV y Excel**"
      ],
      "metadata": {
        "id": "cliE2gEStlZ4"
      }
    },
    {
      "cell_type": "code",
      "source": [
        "# Se guarda el DataFrame en un archivo CSV, sin incluir índice.\n",
        "titanic.to_csv('titanic_final.csv', index=False)\n",
        "\n",
        "# Se guarda el DataFrame en un archivo XLSX, sin incluir \n",
        "# índice, en una hoja llamada datos.\n",
        "titanic.to_excel('titanic_final.xlsx', index=False, sheet_name='datos')\n"
      ],
      "metadata": {
        "id": "0Hv67s1KtoBA"
      },
      "execution_count": null,
      "outputs": []
    }
  ]
}