{
  "nbformat": 4,
  "nbformat_minor": 0,
  "metadata": {
    "colab": {
      "provenance": [],
      "authorship_tag": "ABX9TyO9nO+SJIS9edPA7Z8JOL63",
      "include_colab_link": true
    },
    "kernelspec": {
      "name": "python3",
      "display_name": "Python 3"
    },
    "language_info": {
      "name": "python"
    }
  },
  "cells": [
    {
      "cell_type": "markdown",
      "metadata": {
        "id": "view-in-github",
        "colab_type": "text"
      },
      "source": [
        "<a href=\"https://colab.research.google.com/github/AprendaPracticando/AnaliticaPythonR1/blob/main/LABS/LAB_07_02__Trabajo_columnas.ipynb\" target=\"_parent\"><img src=\"https://colab.research.google.com/assets/colab-badge.svg\" alt=\"Open In Colab\"/></a>"
      ]
    },
    {
      "cell_type": "markdown",
      "source": [
        "# **LAB 07.02: Trabajo con columnas**"
      ],
      "metadata": {
        "id": "an5t9RahslM0"
      }
    },
    {
      "cell_type": "markdown",
      "source": [
        "En este Lab se revisan estrategias para gestionar las columnas.\n",
        "Las tareas por realizar son:\n",
        "1.\tReordenar las columnas de un DataFrame.\n",
        "2.\tCambiar el nombre de las columnas.\n",
        "3.\tEscribir los datos de un DataFrame en un CSV.\n"
      ],
      "metadata": {
        "id": "cg_ChPRFsvOg"
      }
    },
    {
      "cell_type": "code",
      "source": [
        "# Datos base\n",
        "import pandas as pd\n",
        "pasajeros_titanic_csv='https://raw.githubusercontent.com/AprendaPracticando/AnaliticaPythonR1/main/data/pasajeros_titanic.csv'\n",
        "titanic = pd.read_csv(pasajeros_titanic_csv)\n",
        "titanic.drop(columns=['boleto','tarifa','cabina','embarque','residencias'],inplace=True)\n",
        "titanic['identificador']=pd.Series(range(10000,len(titanic)+10000))\n"
      ],
      "metadata": {
        "id": "dNXNk3uxs8dU"
      },
      "execution_count": null,
      "outputs": []
    },
    {
      "cell_type": "markdown",
      "source": [
        "## **Reordenar las columnas de un DataFrame**"
      ],
      "metadata": {
        "id": "5Fq8Wl30tKPA"
      }
    },
    {
      "cell_type": "markdown",
      "source": [
        "Se desean colocar los campos siguiendo este orden:\n",
        "1.\tPrimero los datos de identidad (identificador)\n",
        "2.\tLuego los datos correspondientes a las variables dependientes (sobrevivencia).\n",
        "3.\tLuego los datos correspondientes a las variables independientes (todos los demás campos).\n",
        "4.\tEl orden para las variables dependientes e independientes, dentro de su categoría, seguirá este orden.\n",
        "5.\tDatos descriptivos (nombre)\n",
        "6.\tLuego los temporales (no hay)\n",
        "7.\tLuego los categóricos descriptivos (sexo)\n",
        "8.\tLuego los categóricos numéricos (no hay)\n",
        "9.\tLuego los categóricos codificados (clase_viaje)\n",
        "10.\tLuego los de identidad no requerido (bote, cuerpo)\n",
        "11.\tLuego los datos de valor (edad, parientes, familiares).\n"
      ],
      "metadata": {
        "id": "9bhnrZpCtP5J"
      }
    },
    {
      "cell_type": "code",
      "execution_count": null,
      "metadata": {
        "id": "O3P0O90Nsh3H"
      },
      "outputs": [],
      "source": [
        "# Genera una lista que contenga los nombres de columnas \n",
        "# en el orden deseado.\n",
        "campos_ordenados=['identificador', 'sobrevivencia', \n",
        "        'nombre', 'sexo', 'clase_viaje', 'bote', 'cuerpo',\n",
        "                  'edad', 'parientes', 'familiares']\n",
        "\n",
        "# Recupera los campos en el orden especificado en la lista, y \n",
        "# guárdalos en el mismo DataFrame origen. Dicho de otra forma, \n",
        "# el DataFrame es la representación ordenada de sí mismo.\n",
        "titanic=titanic[campos_ordenados]\n",
        "\n",
        "# Enumera los campos del DataFrame para comprobar el \n",
        "# nuevo orden, usando dtypes.\n",
        "titanic.dtypes\n"
      ]
    },
    {
      "cell_type": "markdown",
      "source": [
        "## **Cambiar nombre de columnas en un DataFrame**"
      ],
      "metadata": {
        "id": "et1xWSZttXoX"
      }
    },
    {
      "cell_type": "markdown",
      "source": [
        "Se desean hacer los siguientes cambios de nombre de columna:\n",
        "1.\tLos identificadores, requeridos o no requeridos, deben iniciar con id_.\n",
        "2.\tLos datos de valor que indiquen cantidad deben iniciar con cantidad_.\n",
        "3.\tLos categóricos numéricos y codificados, deben iniciar con clave_, porque requieren interpretación.\n",
        "4.\tSe deben hacer precisiones de sustantivos. Por ejemplo, usar pasajeros resulta inexacto, pues la tripulación no era pasajera, entonces, lo adecuado sería hablar de personas.\n"
      ],
      "metadata": {
        "id": "CQnJaG08tb8g"
      }
    },
    {
      "cell_type": "code",
      "source": [
        "# Genera un diccionario que contenga la equivalencia \n",
        "# las llaves son los nombres de columna actuales, y los\n",
        "# valores son los nombres que queremos asignar.\n",
        "# Las columnas que no sufren cambio no se ponen.\n",
        "nuevos_nombres={\n",
        "    'identificador':'id_persona',\n",
        "    'sobrevivencia':'clave_sobrevivencia',\n",
        "    'bote':'id_bote',\n",
        "    'cuerpo':'id_cuerpo',\n",
        "    'parientes':'cantidad_parientes',\n",
        "    'familiares':'cantidad_familiares'  \n",
        "}\n",
        "\n",
        "# Renombra las columnas, usando rename(), aplica los\n",
        "# cambios sobre el mismo DataFrame, usando inplace.\n",
        "titanic.rename(columns=nuevos_nombres,inplace=True)\n",
        "\n",
        "# Enumera los campos del DataFrame para comprobar los nuevos\n",
        "# nombres, usando dtypes.\n",
        "titanic.dtypes\n"
      ],
      "metadata": {
        "id": "-RR9BbpBthTP"
      },
      "execution_count": null,
      "outputs": []
    },
    {
      "cell_type": "markdown",
      "source": [
        "## **Escribir un CSV a partir de un DataFrame**"
      ],
      "metadata": {
        "id": "WcybPbr5toJg"
      }
    },
    {
      "cell_type": "code",
      "source": [
        "# Guarda el contenido del DataFrame titanic en un archivo\n",
        "# CSV, usando to_csv(), incluyendo el parámetro index, para \n",
        "# no incluir el índice.\n",
        "titanic.to_csv('personas_titanic.csv', index=False)\n",
        "\n",
        "# Revisa en Google Colab que el archivo se ha creado."
      ],
      "metadata": {
        "id": "wADLxCF-ttvh"
      },
      "execution_count": null,
      "outputs": []
    },
    {
      "cell_type": "markdown",
      "source": [
        "## **Integrar dos DataFrames en un Libro en Excel con dos hojas**"
      ],
      "metadata": {
        "id": "1aVENOnst48V"
      }
    },
    {
      "cell_type": "markdown",
      "source": [
        "Supongamos que queremos generar dos Libros de Excel.\n",
        "1.\tUn Libro de Excel llamado datos_actualizados.xlsx, que contiene una hoja llamado datos, que contiene todos los datos, sin incluir el índice.\n",
        "\n",
        "2.\tUn Libro de Excel llamado vivos_muertos.xlsx, que:\n",
        "a.\tContiene una hoja llamado vivos, que contiene el nombre, el sexo, clave sobrevivencia y la edad de las personas que hayan sobrevivido (clave_sobrevivencia=1).\n",
        "b.\tContiene una hoja llamado muertos, que contiene el nom-bre, el sexo, clave sobrevivencia y la edad de las personas que hayan sobrevivido (clave_sobrevivencia=0).\n"
      ],
      "metadata": {
        "id": "YeSFlXCtt_nL"
      }
    },
    {
      "cell_type": "code",
      "source": [
        "# Se genera el primer Libro de Excel, llamado \n",
        "# datos_actualizados.xlsx\n",
        "# No se incluye el índice.\n",
        "# El nombre de la hoja será datos.\n",
        "titanic.to_excel('datos_actualizados.xlsx', index=False, sheet_name='datos' )\n",
        "\n",
        "# Se recuperan las columnas nombre, sexo y edad, de \n",
        "# las personas que vivieron.\n",
        "vivieron=titanic[['nombre','sexo','clave_sobrevivencia', \n",
        "         'edad']][(titanic['clave_sobrevivencia']==1.0)]\n",
        "\n",
        "# Mostrar resultado\n",
        "vivieron\n"
      ],
      "metadata": {
        "id": "TMCs_-p6uG6D"
      },
      "execution_count": null,
      "outputs": []
    },
    {
      "cell_type": "code",
      "source": [
        "# Se recuperan las columnas nombre, sexo y edad, \n",
        "# de las personas que murieron.\n",
        "murieron=titanic[['nombre','sexo','clave_sobrevivencia', \n",
        "         'edad']][(titanic['clave_sobrevivencia']==0.0)]\n",
        "\n",
        "# Mostrar resultado\n",
        "murieron\n"
      ],
      "metadata": {
        "id": "zOxxwoh8udv7"
      },
      "execution_count": null,
      "outputs": []
    },
    {
      "cell_type": "code",
      "source": [
        "# Se genera una Hoja de Excel por cada DataFrame, y se\n",
        "# almacenan en un mismo libro (vivos_muertos.xlsx).\n",
        "with pd.ExcelWriter('vivos_muertos.xlsx') as flujo:\n",
        "    vivieron.to_excel(flujo, sheet_name='vivos', index=False)\n",
        "    murieron.to_excel(flujo, sheet_name='muertos', index=False)\n"
      ],
      "metadata": {
        "id": "x8LHTfHCumcM"
      },
      "execution_count": null,
      "outputs": []
    }
  ]
}