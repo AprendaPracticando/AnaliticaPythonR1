{
  "nbformat": 4,
  "nbformat_minor": 0,
  "metadata": {
    "colab": {
      "provenance": [],
      "authorship_tag": "ABX9TyPMGSeRb3A40HETW0fHNAbA",
      "include_colab_link": true
    },
    "kernelspec": {
      "name": "python3",
      "display_name": "Python 3"
    },
    "language_info": {
      "name": "python"
    }
  },
  "cells": [
    {
      "cell_type": "markdown",
      "metadata": {
        "id": "view-in-github",
        "colab_type": "text"
      },
      "source": [
        "<a href=\"https://colab.research.google.com/github/AprendaPracticando/AnaliticaPythonR1/blob/main/LABS/LAB_14_01_Muestreo.ipynb\" target=\"_parent\"><img src=\"https://colab.research.google.com/assets/colab-badge.svg\" alt=\"Open In Colab\"/></a>"
      ]
    },
    {
      "cell_type": "markdown",
      "source": [
        "# **LAB 14.01: Muestra aleatoria simple y muestra estratificada**"
      ],
      "metadata": {
        "id": "_ds7LPXcuBiu"
      }
    },
    {
      "cell_type": "markdown",
      "source": [
        "En este Lab se utilizarán todas las técnicas aprendidas para realizar el muestreo aleatorio simple y el muestreo estratificado, sobre los datos de la cámara de bienes raíces del condado King County, en Washington; se considerarán las operaciones de venta de los años 2022 y 2023 de los agentes inmobiliarios GINA JEANNOT, FRANK PAINTER – NEOHOMES, y SKYLINE PROPERTIES, que ya han sido limpiados y tratados en otros ejercicios. En otras palabras, ya disponemos de los datos limpios, sin atípicos y ausentes.\n",
        "\n",
        "Las tareas por realizar son:\n",
        "1.\tRecuperar los datos previamente limpiados y tratados.\n",
        "2.\tDeterminar el tamaño de la muestra estadística.\n",
        "3.\tDeterminar la muestra aleatoria simple.\n",
        "4.\tDeterminar si la muestra es representativa.\n",
        "5.\tGeneración de la muestra estratificada.\n",
        "6.\tVerificar que hubo mejora en la representatividad de los estratos.\n"
      ],
      "metadata": {
        "id": "eiHjEiRzuKsV"
      }
    },
    {
      "cell_type": "markdown",
      "source": [
        "## **Recuperar los datos previamente limpiados y tratados**"
      ],
      "metadata": {
        "id": "d6cZ_721uSPV"
      }
    },
    {
      "cell_type": "code",
      "execution_count": null,
      "metadata": {
        "id": "Of3Qn5J3uAZV"
      },
      "outputs": [],
      "source": [
        "import pandas as pd\n",
        "\n",
        "# Se almacena en una variable la liga de acceso a los \n",
        "# datos master que se encuentran en Github\n",
        "url_master='https://raw.githubusercontent.com/AprendaPracticando/AnaliticaPythonR1/main/data/operaciones_master.csv'\n",
        "\n",
        "# Se enumeran los tipos de datos correctos para los datos.\n",
        "tipos_esperados={\n",
        "  'id_operacion':str,\n",
        "  'fecha_operacion':object,\n",
        "  'precio':float,\n",
        "  'public_id':str,\n",
        "  'codigo_frente_agua':str,\n",
        "  'codigo_vista':str,\n",
        "  'codigo_condicion':str,\n",
        "  'agente_id':str,\n",
        "  'codigo_pais':str,\n",
        "  'año':str,\n",
        "  'año_mes':str,\n",
        "  'mes':str,\n",
        "  'vista':str,\n",
        "  'condición':str,\n",
        "  'país':str,\n",
        "  'agente':str,\n",
        "  'anio_construc':str,\n",
        "  'latitud':str,\n",
        "  'longitud':str,\n",
        "  'codigo_postal':str,\n",
        "  'm2_construccion':float,\n",
        "  'm2_terreno':float,\n",
        "  'm2_sobre_calle':float,\n",
        "  'm2_sotano':float,\n",
        "  'pisos':float,\n",
        "  'recamaras':float,\n",
        "  'banios':float,\n",
        "  'anio_renovacion':str\n",
        "}\n",
        "\n",
        "# Se leen los datos y se cargan en un DataFrame\n",
        "operaciones_master=pd.read_csv(url_master, dtype=tipos_esperados)\n",
        "\n",
        "# La columna fecha_operacion se recuperó como \n",
        "# object, y se transforma a datetime\n",
        "operaciones_master['fecha_operacion']=pd.to_datetime(operaciones_master['fecha_operacion'])\n",
        "\n",
        "# Se muestra el resultado\n",
        "operaciones_master.shape\n"
      ]
    },
    {
      "cell_type": "markdown",
      "source": [
        "## **Determinar el tamaño de la muestra estadística**"
      ],
      "metadata": {
        "id": "n3J-eNYEufeI"
      }
    },
    {
      "cell_type": "markdown",
      "source": [
        "Como podemos comprobar, tenemos 6891 filas, con 28 registros.\n",
        "Suponiendo que queremos un 99% de confianza con un margen de error del 5%, el tamaño de la muestra se calcularía así.\n"
      ],
      "metadata": {
        "id": "U3ZHvA8Gujbi"
      }
    },
    {
      "cell_type": "code",
      "source": [
        "# Declara las variables, cuidando que sean del tipo correcto.\n",
        "N=len(operaciones_master)\n",
        "p=0.50\n",
        "q=1-p\n",
        "E=0.05\n",
        "Z=2.576\n",
        "\n",
        "# Se codifica la fórmula, para calcular el tamaño de la \n",
        "# muestra (n), y muestra el resultado.\n",
        "# Toma en cuenta la propiedad conmutativa 'Cuando \n",
        "# multiplicamos, el orden de los factores no afecta \n",
        "# al producto'.\n",
        "n=int((Z**2*p*q*N)/((N*E**2)+(Z**2*p*q)))\n",
        "\n",
        "print(f'El tamaño de la muestra es {n}')\n"
      ],
      "metadata": {
        "id": "hYnS83BGum8Q"
      },
      "execution_count": null,
      "outputs": []
    },
    {
      "cell_type": "markdown",
      "source": [
        "## **Determinar la muestra aleatoria simple**"
      ],
      "metadata": {
        "id": "vqDWNDfIup-I"
      }
    },
    {
      "cell_type": "code",
      "source": [
        "# Se calcula la muestra aleatoria simple, considerando\n",
        "# un tamaño de la muestra de 605.\n",
        "muestra_aleatoria_simple=operaciones_master.sample(n=605)\n"
      ],
      "metadata": {
        "id": "68yhoKghuvFY"
      },
      "execution_count": null,
      "outputs": []
    },
    {
      "cell_type": "markdown",
      "source": [
        "## **Determinar si la muestra es representativa**"
      ],
      "metadata": {
        "id": "kxJjQUENuybz"
      }
    },
    {
      "cell_type": "markdown",
      "source": [
        "Vamos a suponer que deseamos que la muestra esté estratificada por el tipo de condición en que se encuentra la propiedad, es decir, por la columna **`condición`**.\n",
        "\n",
        "Dado que la muestra estratificada pretende reproducir la representatividad que cada estrato tiene, lo primero que debemos determinar es precisamente cuál es la representatividad por reproducir. \n",
        "\n",
        "Esto lo logramos conociendo la frecuencia relativa que tiene la característica de estratificación en la población. No hay más representatividad más precisa que esa.\n"
      ],
      "metadata": {
        "id": "dwBNp4VZu2ol"
      }
    },
    {
      "cell_type": "code",
      "source": [
        "# Se define cuál es la columna de referencia para\n",
        "# la estratificación. \n",
        "columna='condición'\n",
        "\n",
        "# Se muestra la tabla de frecuencias absolutas y relativas.\n",
        "# Se utiliza sort_index para ordenar por el índice.\n",
        "original=operaciones_master[columna].value_counts()\n",
        "\n",
        "for condicion, fi in original.sort_index().items():\n",
        "  hi=fi/len(operaciones_master)\n",
        "  print(f\"{condicion:30s} {fi:10d} {hi:0.4%}\")\n"
      ],
      "metadata": {
        "id": "HPRTyWmPvAin"
      },
      "execution_count": null,
      "outputs": []
    },
    {
      "cell_type": "markdown",
      "source": [
        "La Serie pandas llamada **`original`** contiene las frecuencias absolutas para la característica de estratificación, a partir de la población.\n",
        "\n",
        "Posteriormente, determinamos las frecuencias absolutas y relativas para la característica de estratificación, a partir de la muestra aleatoria simple que ya hemos generado. \n"
      ],
      "metadata": {
        "id": "QsaW4rv-y9er"
      }
    },
    {
      "cell_type": "code",
      "source": [
        "muestra=muestra_aleatoria_simple[columna].value_counts()\n",
        "\n",
        "for condicion, fi in muestra.sort_index().items():\n",
        "  hi=fi/len(muestra_aleatoria_simple)\n",
        "  print(f\"{condicion:30s} {fi:10d} {hi:0.4%}\")\n"
      ],
      "metadata": {
        "id": "Re52Ah8WzDeV"
      },
      "execution_count": null,
      "outputs": []
    },
    {
      "cell_type": "markdown",
      "source": [
        "La Serie pandas llamada **`muestra`** contiene ahora las frecuencias absolutas para la característica de estratificación, a partir de la muestra.\n",
        "\n",
        "En este caso, podemos darnos cuenta de que hay discrepancias, pero no son muy significativas; desde luego, habrá casos en donde puede presentarse un mayor problema.\n"
      ],
      "metadata": {
        "id": "5v4lRaSGzXEL"
      }
    },
    {
      "cell_type": "markdown",
      "source": [
        "## **Generación de la muestra estratificada**"
      ],
      "metadata": {
        "id": "RkehJu1mze0r"
      }
    },
    {
      "cell_type": "markdown",
      "source": [
        "Si queremos estratificar, de tal manera que la representatividad en una población y en una muestra sean lo más pequeñas posibles, podemos generar muestras aleatorias sobre los estratos, en la proporción que les corresponde a cada uno."
      ],
      "metadata": {
        "id": "lnApVf5nzi_Q"
      }
    },
    {
      "cell_type": "code",
      "source": [
        "# Librerías requeridas para procesamiento\n",
        "from pandas.core.internals import concat\n",
        "import math"
      ],
      "metadata": {
        "id": "KRSZcajx0Wd5"
      },
      "execution_count": null,
      "outputs": []
    },
    {
      "cell_type": "code",
      "source": [
        "# Valores generales\n",
        "\n",
        "# Se especifica la característica de estratificación.\n",
        "columna='condición'\n",
        "\n",
        "# Toma en cuenta que hi, la frecuencia relativa, \n",
        "# representa la proporción de cada condición\n",
        "# en la población.\n",
        "original=operaciones_master[columna].value_counts()\n",
        "filas=len(operaciones_master)\n",
        "tamaño_muestra=605"
      ],
      "metadata": {
        "id": "OENvHuoj0dyB"
      },
      "execution_count": null,
      "outputs": []
    },
    {
      "cell_type": "code",
      "source": [
        "# Se genera un DataFrame con la estructura del DataFrame\n",
        "# base. Se genera vacío, con la finalidad de irle agregando\n",
        "# las filas producto del muestreo.\n",
        "muestra_estratificada=pd.DataFrame(columns=operaciones_master.columns)\n",
        "\n",
        "# Ver estructura\n",
        "muestra_estratificada"
      ],
      "metadata": {
        "id": "bGRcqAs60hrz"
      },
      "execution_count": null,
      "outputs": []
    },
    {
      "cell_type": "code",
      "source": [
        "# Se lee de forma secuencial la tabla de frecuencias,\n",
        "# para determinar cuántas observaciones se deben\n",
        "# tomar de cada estrato.\n",
        "for categoria, fi in original.items():\n",
        "  hi=fi/filas\n",
        "  # Generamos un conjunto de datos que solo contenga\n",
        "  # las filas del segmento.\n",
        "  segmento=operaciones_master[(operaciones_master[columna]==categoria)]\n",
        "\n",
        "  # Se genera una muestra aleatoria simple, sobre\n",
        "  # las filas correspondientes al estrato, usando\n",
        "  # la frecuencia relativa (hi) como proporción.\n",
        "  elementos_representativos=math.ceil(tamaño_muestra*hi)\n",
        "  muestra_estrato=segmento.sample(n=elementos_representativos)\n",
        "\n",
        "  # Se agregan las filas seleccionadas a la muestra\n",
        "  # estratificada. Se irán acumulando las filas\n",
        "  # representativas de cada estrato.\n",
        "  muestra_estratificada=pd.concat([muestra_estratificada,muestra_estrato],ignore_index=True)\n",
        "  \n",
        "  # Se muestran las filas que cumplen con el criterio,\n",
        "  # las filas que constituyen la muestra del segmento,\n",
        "  # las filas que se acumularán a la muestra estratificada,\n",
        "  # y las filas acumuladas de la muestra estratificada.\n",
        "  # Aquí se aprecia cómo va creciendo la muestra.\n",
        "  print(filas, len(segmento), len(muestra_estrato),len(muestra_estratificada))\n",
        "\n",
        "# Se muestra la forma final que tiene la muestra estratificada.\n",
        "print(muestra_estratificada.shape)\n"
      ],
      "metadata": {
        "id": "6Hc_Hfk2z_i8"
      },
      "execution_count": null,
      "outputs": []
    },
    {
      "cell_type": "code",
      "source": [
        "# Se genera la tabla de frecuencias con la muestra\n",
        "# estratificada, para comprobar que se acerca más\n",
        "# a la representatividad deseada.\n",
        "# Es muy poco probable que coincidan exactamente,\n",
        "# debido a que las muestras aleatorias seleccionan\n",
        "# diferentes filas cada vez, y el tamaño de observaciones\n",
        "# a tomar por segmento se redondean.\n",
        "muestra_est=muestra_estratificada[columna].value_counts()\n",
        "\n",
        "for condicion, fi in muestra_est.sort_index().items():\n",
        "  hi=fi/len(muestra_aleatoria_simple)\n",
        "  print(f\"{condicion:30s} {fi:10d} {hi:0.4%}\")\n"
      ],
      "metadata": {
        "id": "0wi5-Ge00_A8"
      },
      "execution_count": null,
      "outputs": []
    },
    {
      "cell_type": "markdown",
      "source": [
        "## **Verificar que hubo mejora en representatividad de los estratos**"
      ],
      "metadata": {
        "id": "C6FKW2Pi2xpe"
      }
    },
    {
      "cell_type": "markdown",
      "source": [
        "Ahora verificaremos visualmente cuál de las dos muestras, aleatoria simple, o estratificada, representa más acertadamente a los estratos en la población.\n",
        "\n",
        "Generaremos 3 gráficas de sectores, a partir de Series pandas que contienen las tablas de frecuencias correspondiente a la característica de estratificación, para la población (**`original`**), para la muestra aleatoria simple (**`muestra`**) y para la muestra estratificada (**`muestra_est`**).\n"
      ],
      "metadata": {
        "id": "FL6pSU1f25S6"
      }
    },
    {
      "cell_type": "code",
      "source": [
        "# Librería para poder graficar.\n",
        "import matplotlib.pyplot as plt\n",
        "\n",
        "# Creamos la gráfica de sectores, tomando la serie\n",
        "# original, que contiene la tabla de frecuencias de\n",
        "# la característica de estratificación, a partir de\n",
        "# la población.\n",
        "plt.pie(original, labels=original.index, autopct='%1.2f%%')\n",
        "plt.title('Población')\n",
        "\n",
        "# Se genera una nueva gráfica.\n",
        "plt.figure()\n",
        "# Creamos la gráfica de sectores, tomando la serie\n",
        "# muestra, que contiene la tabla de frecuencias de\n",
        "# la característica de estratificación, a partir de\n",
        "# la muestra aleatoria simple.\n",
        "plt.pie(muestra, labels=muestra.index, autopct='%1.2f%%')\n",
        "plt.title('Muestra aleatoria simple')\n",
        "\n",
        "# Se genera una nueva gráfica.\n",
        "plt.figure()\n",
        "# Creamos la gráfica de sectores, tomando la serie\n",
        "# muestra, que contiene la tabla de frecuencias de\n",
        "# la característica de estratificación, a partir de\n",
        "# la muestra aleatoria simple.\n",
        "plt.pie(muestra_est, labels=muestra_est.index, autopct='%1.2f%%')\n",
        "plt.title('Muestra estratificada')\n",
        "\n",
        "# Se muestran los gráficos\n",
        "plt.show()\n"
      ],
      "metadata": {
        "id": "aSSRftvG3KIs"
      },
      "execution_count": null,
      "outputs": []
    }
  ]
}