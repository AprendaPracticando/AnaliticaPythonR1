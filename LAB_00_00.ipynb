{
  "nbformat": 4,
  "nbformat_minor": 0,
  "metadata": {
    "colab": {
      "provenance": [],
      "authorship_tag": "ABX9TyM5pr3MI233s6Oreju/GJ8s",
      "include_colab_link": true
    },
    "kernelspec": {
      "name": "python3",
      "display_name": "Python 3"
    },
    "language_info": {
      "name": "python"
    }
  },
  "cells": [
    {
      "cell_type": "markdown",
      "metadata": {
        "id": "view-in-github",
        "colab_type": "text"
      },
      "source": [
        "<a href=\"https://colab.research.google.com/github/AprendaPracticando/AnaliticaPythonR1/blob/main/LAB_00_00.ipynb\" target=\"_parent\"><img src=\"https://colab.research.google.com/assets/colab-badge.svg\" alt=\"Open In Colab\"/></a>"
      ]
    },
    {
      "cell_type": "markdown",
      "source": [
        "# **`LAB_00.00`** Prueba inicial de bienvenida\n",
        "\n",
        "En esta libreta se verá la forma de trabajar los laboratorios."
      ],
      "metadata": {
        "id": "JBT7eAzmE-Aq"
      }
    },
    {
      "cell_type": "code",
      "execution_count": null,
      "metadata": {
        "id": "yU2Qkb4YE8CW"
      },
      "outputs": [],
      "source": [
        "# Importa la librería pandas, asignando pd como alias\n",
        "\n"
      ]
    },
    {
      "cell_type": "markdown",
      "source": [
        "Ve al repositorio GitHub donde se encuentran los archivos complementarios del taller.\n",
        "\n",
        "https://github.com/AprendaPracticando/AnaliticaPythonR1\n",
        "\n"
      ],
      "metadata": {
        "id": "NqAyjR9MFmYP"
      }
    },
    {
      "cell_type": "code",
      "source": [
        "# Obtén la referencia a los datos desde GitHub\n",
        "# Ve a /data\n",
        "# Abre clases.csv\n",
        "# Observa los datos\n",
        "# Cambia a formato raw\n",
        "# Copia la url del archivo\n",
        "# Asigna la url a una variable llamada url_archivo\n",
        "\n"
      ],
      "metadata": {
        "id": "ZgckNPHeFe95"
      },
      "execution_count": null,
      "outputs": []
    },
    {
      "cell_type": "code",
      "source": [
        "# Genera un DataFrame de pandas a partir de los datos de\n",
        "# clases.csv\n",
        "\n"
      ],
      "metadata": {
        "id": "dnJnSrbWGZ4E"
      },
      "execution_count": null,
      "outputs": []
    },
    {
      "cell_type": "code",
      "source": [
        "# Muestra los datos del DataFrame, y comprueba que todo ha salido bien.\n",
        "\n"
      ],
      "metadata": {
        "id": "BAiyijORGt56"
      },
      "execution_count": null,
      "outputs": []
    }
  ]
}