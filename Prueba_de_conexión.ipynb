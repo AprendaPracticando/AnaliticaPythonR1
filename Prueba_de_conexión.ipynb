{
  "nbformat": 4,
  "nbformat_minor": 0,
  "metadata": {
    "colab": {
      "provenance": [],
      "authorship_tag": "ABX9TyOBMssIQm5H3jC8Rattee51",
      "include_colab_link": true
    },
    "kernelspec": {
      "name": "python3",
      "display_name": "Python 3"
    },
    "language_info": {
      "name": "python"
    }
  },
  "cells": [
    {
      "cell_type": "markdown",
      "metadata": {
        "id": "view-in-github",
        "colab_type": "text"
      },
      "source": [
        "<a href=\"https://colab.research.google.com/github/AprendaPracticando/AnaliticaPythonR1/blob/main/Prueba_de_conexi%C3%B3n.ipynb\" target=\"_parent\"><img src=\"https://colab.research.google.com/assets/colab-badge.svg\" alt=\"Open In Colab\"/></a>"
      ]
    },
    {
      "cell_type": "markdown",
      "source": [
        "# Prueba de conexión\n",
        "\n",
        "Colócate en la celda de código, y presiona **`CTRL+ENTER`**, para ejecutar."
      ],
      "metadata": {
        "id": "CupiHoC_iR7I"
      }
    },
    {
      "cell_type": "code",
      "execution_count": 1,
      "metadata": {
        "colab": {
          "base_uri": "https://localhost:8080/"
        },
        "id": "sX8qIWcwiQJT",
        "outputId": "3b208f31-daf5-4523-d45a-65d1b85c84db"
      },
      "outputs": [
        {
          "output_type": "stream",
          "name": "stdout",
          "text": [
            "   clase_viaje          clase\n",
            "0            1  PRIMERA CLASE\n",
            "1            2  SEGUNDA CLASE\n",
            "2            3  TERCERA CLASE\n"
          ]
        }
      ],
      "source": [
        "# Se importa la librería pandas, requerida para la lectura y trabajo\n",
        "# con estructuras de dato Series y DataFrames\n",
        "import pandas as pd\n",
        "\n",
        "# Se asignan las ligas para el acceso a los archivos de datos desde\n",
        "# GitHub de Aprenda.\n",
        "\n",
        "pasajeros_titanic_csv='https://raw.githubusercontent.com/AprendaPracticando/AnaliticaPythonR1/main/data/pasajeros_titanic.csv'\n",
        "clases_csv='https://raw.githubusercontent.com/AprendaPracticando/AnaliticaPythonR1/main/data/clases.csv'\n",
        "\n",
        "try:\n",
        "  # Se intenta la lectura de un archivo.\n",
        "  clases=pd.read_csv(clases_csv)\n",
        "  # Se imprime el contenido del archivo.\n",
        "  print(clases)\n",
        "except:\n",
        "  print('Algo ha salido mal. Revisa tu conexión, o las referencias.')\n",
        "\n",
        "# Si no hubo errores hasta aquí, felicidades. "
      ]
    }
  ]
}